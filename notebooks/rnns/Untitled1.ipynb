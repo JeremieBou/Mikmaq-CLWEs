{
 "cells": [
  {
   "cell_type": "code",
   "execution_count": 1,
   "metadata": {},
   "outputs": [],
   "source": [
    "import torch"
   ]
  },
  {
   "cell_type": "code",
   "execution_count": 28,
   "metadata": {},
   "outputs": [],
   "source": [
    "a = torch.randint(10, (1, 100), dtype=torch.long)[0]\n",
    "b = torch.randint(10, (1, 50), dtype=torch.long)[0]"
   ]
  },
  {
   "cell_type": "code",
   "execution_count": 29,
   "metadata": {},
   "outputs": [
    {
     "data": {
      "text/plain": [
       "tensor([8, 8, 0, 8, 7, 0, 2, 0, 4, 3, 0, 1, 1, 4, 4, 3, 0, 6, 0, 0, 7, 5, 8, 7,\n",
       "        2, 3, 9, 6, 6, 2, 2, 7, 0, 4, 8, 3, 9, 1, 8, 3, 0, 6, 4, 8, 1, 3, 1, 7,\n",
       "        7, 1, 6, 7, 4, 7, 9, 6, 4, 2, 9, 8, 8, 9, 0, 0, 3, 4, 8, 7, 7, 9, 6, 6,\n",
       "        5, 1, 5, 4, 7, 2, 1, 4, 3, 5, 0, 2, 6, 3, 3, 6, 8, 5, 3, 5, 3, 8, 2, 7,\n",
       "        3, 9, 3, 0])"
      ]
     },
     "execution_count": 29,
     "metadata": {},
     "output_type": "execute_result"
    }
   ],
   "source": [
    "a"
   ]
  },
  {
   "cell_type": "code",
   "execution_count": 30,
   "metadata": {},
   "outputs": [
    {
     "data": {
      "text/plain": [
       "tensor([6, 2, 6, 2, 1, 4, 1, 2, 1, 9, 1, 1, 9, 0, 1, 4, 1, 4, 1, 7, 2, 7, 6, 3,\n",
       "        9, 8, 2, 7, 9, 3, 7, 5, 1, 1, 3, 5, 8, 4, 9, 7, 8, 8, 9, 9, 7, 9, 2, 0,\n",
       "        4, 3])"
      ]
     },
     "execution_count": 30,
     "metadata": {},
     "output_type": "execute_result"
    }
   ],
   "source": [
    "a[0:50].copy_(b)"
   ]
  },
  {
   "cell_type": "code",
   "execution_count": 31,
   "metadata": {},
   "outputs": [
    {
     "data": {
      "text/plain": [
       "tensor([6, 2, 6, 2, 1, 4, 1, 2, 1, 9, 1, 1, 9, 0, 1, 4, 1, 4, 1, 7, 2, 7, 6, 3,\n",
       "        9, 8, 2, 7, 9, 3, 7, 5, 1, 1, 3, 5, 8, 4, 9, 7, 8, 8, 9, 9, 7, 9, 2, 0,\n",
       "        4, 3, 6, 7, 4, 7, 9, 6, 4, 2, 9, 8, 8, 9, 0, 0, 3, 4, 8, 7, 7, 9, 6, 6,\n",
       "        5, 1, 5, 4, 7, 2, 1, 4, 3, 5, 0, 2, 6, 3, 3, 6, 8, 5, 3, 5, 3, 8, 2, 7,\n",
       "        3, 9, 3, 0])"
      ]
     },
     "execution_count": 31,
     "metadata": {},
     "output_type": "execute_result"
    }
   ],
   "source": [
    "a"
   ]
  },
  {
   "cell_type": "code",
   "execution_count": 27,
   "metadata": {},
   "outputs": [
    {
     "data": {
      "text/plain": [
       "tensor([2, 1, 9, 9, 4, 4, 4, 1, 7, 1, 8, 5, 3, 9, 9, 9, 2, 5, 3, 3, 4, 9, 2, 1,\n",
       "        6, 0, 5, 8, 0, 2, 3, 2, 7, 6, 4, 2, 1, 9, 1, 8, 1, 6, 4, 2, 6, 9, 5, 8,\n",
       "        9, 1])"
      ]
     },
     "execution_count": 27,
     "metadata": {},
     "output_type": "execute_result"
    }
   ],
   "source": [
    "b"
   ]
  },
  {
   "cell_type": "code",
   "execution_count": 32,
   "metadata": {},
   "outputs": [
    {
     "data": {
      "text/plain": [
       "[0, 0, 0, 0, 0, 0, 0, 0, 0, 0]"
      ]
     },
     "execution_count": 32,
     "metadata": {},
     "output_type": "execute_result"
    }
   ],
   "source": [
    "a = [0]*10\n",
    "a"
   ]
  },
  {
   "cell_type": "code",
   "execution_count": 35,
   "metadata": {},
   "outputs": [
    {
     "data": {
      "text/plain": [
       "[0, 2, 2, 2, 2, 0, 0, 0, 0, 0]"
      ]
     },
     "execution_count": 35,
     "metadata": {},
     "output_type": "execute_result"
    }
   ],
   "source": [
    "a[1:4] = [2]*4\n",
    "a"
   ]
  },
  {
   "cell_type": "code",
   "execution_count": 36,
   "metadata": {},
   "outputs": [
    {
     "ename": "TypeError",
     "evalue": "object of type 'NoneType' has no len()",
     "output_type": "error",
     "traceback": [
      "\u001b[0;31m---------------------------------------------------------------------------\u001b[0m",
      "\u001b[0;31mTypeError\u001b[0m                                 Traceback (most recent call last)",
      "\u001b[0;32m<ipython-input-36-96b07938784c>\u001b[0m in \u001b[0;36m<module>\u001b[0;34m\u001b[0m\n\u001b[0;32m----> 1\u001b[0;31m \u001b[0mlen\u001b[0m\u001b[0;34m(\u001b[0m\u001b[0;32mNone\u001b[0m\u001b[0;34m)\u001b[0m\u001b[0;34m\u001b[0m\u001b[0m\n\u001b[0m",
      "\u001b[0;31mTypeError\u001b[0m: object of type 'NoneType' has no len()"
     ]
    }
   ],
   "source": [
    "len(None)"
   ]
  }
 ],
 "metadata": {
  "kernelspec": {
   "display_name": "Python 3",
   "language": "python",
   "name": "python3"
  },
  "language_info": {
   "codemirror_mode": {
    "name": "ipython",
    "version": 3
   },
   "file_extension": ".py",
   "mimetype": "text/x-python",
   "name": "python",
   "nbconvert_exporter": "python",
   "pygments_lexer": "ipython3",
   "version": "3.7.0"
  }
 },
 "nbformat": 4,
 "nbformat_minor": 2
}
