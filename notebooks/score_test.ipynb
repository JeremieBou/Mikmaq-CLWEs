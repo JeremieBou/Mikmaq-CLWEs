{
 "cells": [
  {
   "cell_type": "code",
   "execution_count": 37,
   "metadata": {},
   "outputs": [],
   "source": [
    "import kenlm\n",
    "import math"
   ]
  },
  {
   "cell_type": "code",
   "execution_count": 44,
   "metadata": {},
   "outputs": [],
   "source": [
    "test = open('../data/transformed/micmac/test.txt').readlines()"
   ]
  },
  {
   "cell_type": "code",
   "execution_count": 43,
   "metadata": {},
   "outputs": [],
   "source": [
    "model = kenlm.LanguageModel('../models/kenlm/klm_mm_2.bin')"
   ]
  },
  {
   "cell_type": "code",
   "execution_count": 48,
   "metadata": {},
   "outputs": [
    {
     "name": "stdout",
     "output_type": "stream",
     "text": [
      "katherine mclennan napui'kikneym weja'taqitip rosalie gillis etl-lukwet wi'katiknewo'kuo'm wejiwisik wjit james mcconnel . </s>\n",
      "['katherine', 'mclennan', \"napui'kikneym\", \"weja'taqitip\", 'rosalie', 'gillis', 'etl-lukwet', \"wi'katiknewo'kuo'm\", 'wejiwisik', 'wjit', 'james', 'mcconnel', '.', '</s>']\n",
      "(-3.08976149559021, 2, False)\n",
      "katherine  -7.114438760653005\n",
      "(-1.920279622077942, 2, False)\n",
      "mclennan  -4.421607232176909\n",
      "(-4.794302940368652, 1, True)\n",
      "napui'kikneym  -11.03929048179038\n",
      "(-4.6886396408081055, 1, True)\n",
      "weja'taqitip  -10.7959917433457\n",
      "(-4.6886396408081055, 1, True)\n",
      "rosalie  -10.7959917433457\n",
      "(-4.6886396408081055, 1, True)\n",
      "gillis  -10.7959917433457\n",
      "(-4.6886396408081055, 1, True)\n",
      "etl-lukwet  -10.7959917433457\n",
      "(-4.059277534484863, 1, False)\n",
      "wi'katiknewo'kuo'm  -9.34683193923047\n",
      "(-4.794302940368652, 1, True)\n",
      "wejiwisik  -11.03929048179038\n",
      "(-2.216033935546875, 1, False)\n",
      "wjit  -5.102606705559162\n",
      "(-4.452651500701904, 1, False)\n",
      "james  -10.252608969813771\n",
      "(-4.788148403167725, 1, True)\n",
      "mcconnel  -11.025119136177246\n",
      "(-1.1318635940551758, 1, False)\n",
      ".  -2.606212238974112\n",
      "(-9.498600411461666e-05, 2, False)\n",
      "</s>  -0.00021871335711738492\n"
     ]
    }
   ],
   "source": [
    "sent = test[0].strip()\n",
    "#sent = \"hello there my name is jer\"\n",
    "sent_split = sent.split(' ')\n",
    "print(sent)\n",
    "print(sent_split)\n",
    "for i, score in enumerate(model.full_scores(sent, eos=False)):\n",
    "    print(score)\n",
    "    print(\"{}  {}\".format(sent_split[i], math.log(10 ** score[0])))"
   ]
  },
  {
   "cell_type": "code",
   "execution_count": null,
   "metadata": {},
   "outputs": [],
   "source": []
  }
 ],
 "metadata": {
  "kernelspec": {
   "display_name": "Python 3",
   "language": "python",
   "name": "python3"
  },
  "language_info": {
   "codemirror_mode": {
    "name": "ipython",
    "version": 3
   },
   "file_extension": ".py",
   "mimetype": "text/x-python",
   "name": "python",
   "nbconvert_exporter": "python",
   "pygments_lexer": "ipython3",
   "version": "3.7.0"
  }
 },
 "nbformat": 4,
 "nbformat_minor": 2
}
