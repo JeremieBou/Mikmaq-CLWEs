{
 "cells": [
  {
   "cell_type": "markdown",
   "metadata": {},
   "source": [
    "# Base KenLM Models"
   ]
  },
  {
   "cell_type": "markdown",
   "metadata": {},
   "source": [
    "## Train models "
   ]
  },
  {
   "cell_type": "code",
   "execution_count": 26,
   "metadata": {},
   "outputs": [],
   "source": [
    "%%capture\n",
    "!command ./../../tools/kenlm/bin/lmplz -o 2 --skip_symbols --interpolate_unigrams 0  < ../../data/transformed/micmac/train.txt > ../../models/kenlm/klm_mm_inter_2.arpa \n",
    "!command ./../../tools/kenlm/bin/build_binary ../../models/kenlm/klm_mm_inter_2.arpa ../../models/kenlm/klm_mm_inter_2.bin\n",
    "\n",
    "!command ./../../tools/kenlm/bin/lmplz -o 3 --skip_symbols --interpolate_unigrams 0  < ../../data/transformed/micmac/train.txt > ../../models/kenlm/klm_mm_inter_3.arpa \n",
    "!command ./../../tools/kenlm/bin/build_binary ../../models/kenlm/klm_mm_inter_3.arpa ../../models/kenlm/klm_mm_inter_3.bin\n",
    "\n",
    "!command ./../../tools/kenlm/bin/lmplz -o 4 --skip_symbols --interpolate_unigrams 0  < ../../data/transformed/micmac/train.txt > ../../models/kenlm/klm_mm_inter_4.arpa \n",
    "!command ./../../tools/kenlm/bin/build_binary ../../models/kenlm/klm_mm_inter_4.arpa ../../models/kenlm/klm_mm_inter_4.bin\n",
    "\n",
    "!command ./../../tools/kenlm/bin/lmplz -o 5 --skip_symbols --interpolate_unigrams 0  < ../../data/transformed/micmac/train.txt > ../../models/kenlm/klm_mm_inter_5.arpa \n",
    "!command ./../../tools/kenlm/bin/build_binary ../../models/kenlm/klm_mm_inter_5.arpa ../../models/kenlm/klm_mm_inter_5.bin\n",
    "\n",
    "!command ./../../tools/kenlm/bin/lmplz -o 6 --skip_symbols --interpolate_unigrams 0 < ../../data/transformed/micmac/train.txt > ../../models/kenlm/klm_mm_inter_6.arpa \n",
    "!command ./../../tools/kenlm/bin/build_binary ../../models/kenlm/klm_mm_inter_6.arpa ../../models/kenlm/klm_mm_inter_6.bin\n"
   ]
  },
  {
   "cell_type": "markdown",
   "metadata": {},
   "source": [
    "## Generate evaluation"
   ]
  },
  {
   "cell_type": "code",
   "execution_count": 27,
   "metadata": {},
   "outputs": [],
   "source": [
    "!command python ../../src/eval/testKenlmModelGood.py ../../models/kenlm/klm_mm_inter_2.bin ../../data/transformed/micmac/dev.txt  \\\n",
    "            > ../../data/eval_out/kenlm/klm_02_mm_inter.txt\n",
    "!command python ../../src/eval/testKenlmModelGood.py ../../models/kenlm/klm_mm_inter_2.bin ../../data/transformed/micmac/dev.txt adj \\\n",
    "            > ../../data/eval_out/kenlm/klm_02_mm_inter_adj.txt\n",
    "\n",
    "!command python ../../src/eval/testKenlmModelGood.py ../../models/kenlm/klm_mm_inter_3.bin ../../data/transformed/micmac/dev.txt  \\\n",
    "            > ../../data/eval_out/kenlm/klm_03_mm_inter.txt\n",
    "!command python ../../src/eval/testKenlmModelGood.py ../../models/kenlm/klm_mm_inter_3.bin ../../data/transformed/micmac/dev.txt adj \\\n",
    "            > ../../data/eval_out/kenlm/klm_03_mm_inter_adj.txt\n",
    "\n",
    "!command python ../../src/eval/testKenlmModelGood.py ../../models/kenlm/klm_mm_inter_4.bin ../../data/transformed/micmac/dev.txt  \\\n",
    "            > ../../data/eval_out/kenlm/klm_04_mm_inter.txt\n",
    "!command python ../../src/eval/testKenlmModelGood.py ../../models/kenlm/klm_mm_inter_4.bin ../../data/transformed/micmac/dev.txt adj \\\n",
    "            > ../../data/eval_out/kenlm/klm_04_mm_inter_adj.txt\n",
    "\n",
    "!command python ../../src/eval/testKenlmModelGood.py ../../models/kenlm/klm_mm_inter_5.bin ../../data/transformed/micmac/dev.txt  \\\n",
    "            > ../../data/eval_out/kenlm/klm_05_mm_inter.txt\n",
    "!command python ../../src/eval/testKenlmModelGood.py ../../models/kenlm/klm_mm_inter_5.bin ../../data/transformed/micmac/dev.txt adj \\\n",
    "            > ../../data/eval_out/kenlm/klm_05_mm_inter_adj.txt\n",
    "\n",
    "!command python ../../src/eval/testKenlmModelGood.py ../../models/kenlm/klm_mm_inter_6.bin ../../data/transformed/micmac/dev.txt  \\\n",
    "            > ../../data/eval_out/kenlm/klm_06_mm_inter.txt\n",
    "!command python ../../src/eval/testKenlmModelGood.py ../../models/kenlm/klm_mm_inter_6.bin ../../data/transformed/micmac/dev.txt adj \\\n",
    "            > ../../data/eval_out/kenlm/klm_06_mm_inter_adj.txt\n",
    "\n"
   ]
  },
  {
   "cell_type": "markdown",
   "metadata": {},
   "source": [
    "## Get performance"
   ]
  },
  {
   "cell_type": "code",
   "execution_count": 31,
   "metadata": {},
   "outputs": [
    {
     "name": "stdout",
     "output_type": "stream",
     "text": [
      "2-gram\n",
      "Perplexity: 82.03990869832879\n",
      "Adjusted Perplexity: 377.361466022434\n",
      "Perplexity: 377.36146602242695\n",
      "Adjusted Perplexity: 377.36146602242695\n",
      "Perplexity: 608.0638936517345\n",
      "Adjusted Perplexity: 608.0638936517345\n",
      "\n",
      "3-gram\n",
      "Perplexity: 64.37371189340791\n",
      "Adjusted Perplexity: 296.10172267167644\n",
      "Perplexity: 296.10172267167644\n",
      "Adjusted Perplexity: 296.10172267167644\n",
      "Perplexity: 467.5174864512786\n",
      "Adjusted Perplexity: 467.5174864512786\n",
      "\n",
      "4-gram\n",
      "Perplexity: 62.33487017148162\n",
      "Adjusted Perplexity: 286.72360032389423\n",
      "Perplexity: 286.7236003238897\n",
      "Adjusted Perplexity: 286.7236003238897\n",
      "Perplexity: 451.5290113639907\n",
      "Adjusted Perplexity: 451.5290113639907\n",
      "\n",
      "5-gram\n",
      "Perplexity: 62.392794359884014\n",
      "Adjusted Perplexity: 286.99003597698675\n",
      "Perplexity: 286.99003597698544\n",
      "Adjusted Perplexity: 286.99003597698544\n",
      "Perplexity: 451.971206912151\n",
      "Adjusted Perplexity: 451.971206912151\n",
      "\n",
      "6-gram\n",
      "Perplexity: 62.660189729685875\n",
      "Adjusted Perplexity: 288.21998260122155\n",
      "Perplexity: 288.2199826012192\n",
      "Adjusted Perplexity: 288.2199826012192\n",
      "Perplexity: 454.0692693497989\n",
      "Adjusted Perplexity: 454.0692693497989\n"
     ]
    }
   ],
   "source": [
    "!command echo 2-gram\n",
    "!command python ../../src/eval/perplexity_adj.py ../../data/eval_out/kenlm/klm_02_mm_inter.txt \n",
    "!command python ../../src/eval/perplexity_adj.py ../../data/eval_out/kenlm/klm_02_mm_inter_adj.txt \n",
    "!command python ../../src/eval/perplexity_adj2.py ../../data/eval_out/kenlm/klm_02_mm_inter_adj.txt \n",
    "\n",
    "!command echo\n",
    "!command echo 3-gram\n",
    "!command python ../../src/eval/perplexity_adj.py ../../data/eval_out/kenlm/klm_03_mm_inter.txt \n",
    "!command python ../../src/eval/perplexity_adj.py ../../data/eval_out/kenlm/klm_03_mm_inter_adj.txt \n",
    "!command python ../../src/eval/perplexity_adj2.py ../../data/eval_out/kenlm/klm_03_mm_inter_adj.txt \n",
    "\n",
    "!command echo\n",
    "!command echo 4-gram\n",
    "!command python ../../src/eval/perplexity_adj.py ../../data/eval_out/kenlm/klm_04_mm_inter.txt \n",
    "!command python ../../src/eval/perplexity_adj.py ../../data/eval_out/kenlm/klm_04_mm_inter_adj.txt \n",
    "!command python ../../src/eval/perplexity_adj2.py ../../data/eval_out/kenlm/klm_04_mm_inter_adj.txt \n",
    "\n",
    "!command echo\n",
    "!command echo 5-gram\n",
    "!command python ../../src/eval/perplexity_adj.py ../../data/eval_out/kenlm/klm_05_mm_inter.txt \n",
    "!command python ../../src/eval/perplexity_adj.py ../../data/eval_out/kenlm/klm_05_mm_inter_adj.txt \n",
    "!command python ../../src/eval/perplexity_adj2.py ../../data/eval_out/kenlm/klm_05_mm_inter_adj.txt \n",
    "\n",
    "!command echo\n",
    "!command echo 6-gram\n",
    "!command python ../../src/eval/perplexity_adj.py ../../data/eval_out/kenlm/klm_06_mm_inter.txt \n",
    "!command python ../../src/eval/perplexity_adj.py ../../data/eval_out/kenlm/klm_06_mm_inter_adj.txt \n",
    "!command python ../../src/eval/perplexity_adj2.py ../../data/eval_out/kenlm/klm_06_mm_inter_adj.txt "
   ]
  },
  {
   "cell_type": "code",
   "execution_count": null,
   "metadata": {},
   "outputs": [],
   "source": []
  },
  {
   "cell_type": "code",
   "execution_count": null,
   "metadata": {},
   "outputs": [],
   "source": []
  }
 ],
 "metadata": {
  "kernelspec": {
   "display_name": "Python 3",
   "language": "python",
   "name": "python3"
  },
  "language_info": {
   "codemirror_mode": {
    "name": "ipython",
    "version": 3
   },
   "file_extension": ".py",
   "mimetype": "text/x-python",
   "name": "python",
   "nbconvert_exporter": "python",
   "pygments_lexer": "ipython3",
   "version": "3.7.0"
  }
 },
 "nbformat": 4,
 "nbformat_minor": 2
}
