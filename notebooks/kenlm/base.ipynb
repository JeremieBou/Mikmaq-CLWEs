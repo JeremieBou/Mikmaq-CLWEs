{
 "cells": [
  {
   "cell_type": "markdown",
   "metadata": {},
   "source": [
    "# Base KenLM Models"
   ]
  },
  {
   "cell_type": "markdown",
   "metadata": {},
   "source": [
    "## Train models "
   ]
  },
  {
   "cell_type": "code",
   "execution_count": 39,
   "metadata": {},
   "outputs": [
    {
     "name": "stdout",
     "output_type": "stream",
     "text": [
      "/bin/sh: 1: cannot open ../../data/transformed/micmac/train.txt: No such file\n",
      "/bin/sh: 1: ./../../tools/kenlm/bin/build_binary: not found\n",
      "/bin/sh: 1: cannot open ../../data/transformed/micmac/train.txt: No such file\n",
      "/bin/sh: 1: ./../../tools/kenlm/bin/build_binary: not found\n",
      "/bin/sh: 1: cannot open ../../data/transformed/micmac/train.txt: No such file\n",
      "/bin/sh: 1: ./../../tools/kenlm/bin/build_binary: not found\n",
      "/bin/sh: 1: cannot open ../../data/transformed/micmac/train.txt: No such file\n",
      "/bin/sh: 1: ./../../tools/kenlm/bin/build_binary: not found\n",
      "/bin/sh: 1: cannot open ../../data/transformed/micmac/train.txt: No such file\n",
      "/bin/sh: 1: ./../../tools/kenlm/bin/build_binary: not found\n"
     ]
    }
   ],
   "source": [
    "%%capture\n",
    "!command ./../../tools/kenlm/bin/lmplz -o 2 --skip_symbols < ../../data/transformed/micmac/train.txt  > ../../models/kenlm/klm_mm_2.arpa \n",
    "!command ./../../tools/kenlm/bin/build_binary ../../models/kenlm/klm_mm_2.arpa ../../models/kenlm/klm_mm_2.bin\n",
    "\n",
    "!command ./../../tools/kenlm/bin/lmplz -o 3 --skip_symbols < ../../data/transformed/micmac/train.txt  > ../../models/kenlm/klm_mm_3.arpa \n",
    "!command ./../../tools/kenlm/bin/build_binary ../../models/kenlm/klm_mm_3.arpa ../../models/kenlm/klm_mm_3.bin\n",
    "\n",
    "!command ./../../tools/kenlm/bin/lmplz -o 4 --skip_symbols < ../../data/transformed/micmac/train.txt  > ../../models/kenlm/klm_mm_4.arpa \n",
    "!command ./../../tools/kenlm/bin/build_binary ../../models/kenlm/klm_mm_4.arpa ../../models/kenlm/klm_mm_4.bin\n",
    "\n",
    "!command ./../../tools/kenlm/bin/lmplz -o 5 --skip_symbols < ../../data/transformed/micmac/train.txt  > ../../models/kenlm/klm_mm_5.arpa \n",
    "!command ./../../tools/kenlm/bin/build_binary ../../models/kenlm/klm_mm_5.arpa ../../models/kenlm/klm_mm_5.bin\n",
    "\n",
    "!command ./../../tools/kenlm/bin/lmplz -o 6 --skip_symbols < ../../data/transformed/micmac/train.txt  > ../../models/kenlm/klm_mm_6.arpa \n",
    "!command ./../../tools/kenlm/bin/build_binary ../../models/kenlm/klm_mm_6.arpa ../../models/kenlm/klm_mm_6.bin\n"
   ]
  },
  {
   "cell_type": "markdown",
   "metadata": {},
   "source": [
    "## Generate evaluation"
   ]
  },
  {
   "cell_type": "code",
   "execution_count": 1,
   "metadata": {},
   "outputs": [],
   "source": [
    "!command python ../../src/eval/testKenlmModelGood.py ../../models/kenlm/klm_mm_2.bin ../../data/transformed/micmac/test.txt  \\\n",
    "            > ../../data/eval_out/kenlm/klm_02_mm.txt\n",
    "!command python ../../src/eval/testKenlmModelGood.py ../../models/kenlm/klm_mm_2.bin ../../data/transformed/micmac/test.txt adj \\\n",
    "            > ../../data/eval_out/kenlm/klm_02_mm_adj.txt\n",
    "\n",
    "!command python ../../src/eval/testKenlmModelGood.py ../../models/kenlm/klm_mm_3.bin ../../data/transformed/micmac/test.txt  \\\n",
    "            > ../../data/eval_out/kenlm/klm_03_mm.txt\n",
    "!command python ../../src/eval/testKenlmModelGood.py ../../models/kenlm/klm_mm_3.bin ../../data/transformed/micmac/test.txt adj \\\n",
    "            > ../../data/eval_out/kenlm/klm_03_mm_adj.txt\n",
    "\n",
    "!command python ../../src/eval/testKenlmModelGood.py ../../models/kenlm/klm_mm_4.bin ../../data/transformed/micmac/test.txt  \\\n",
    "            > ../../data/eval_out/kenlm/klm_04_mm.txt\n",
    "!command python ../../src/eval/testKenlmModelGood.py ../../models/kenlm/klm_mm_4.bin ../../data/transformed/micmac/test.txt adj \\\n",
    "            > ../../data/eval_out/kenlm/klm_04_mm_adj.txt\n",
    "\n",
    "!command python ../../src/eval/testKenlmModelGood.py ../../models/kenlm/klm_mm_5.bin ../../data/transformed/micmac/test.txt  \\\n",
    "            > ../../data/eval_out/kenlm/klm_05_mm.txt\n",
    "!command python ../../src/eval/testKenlmModelGood.py ../../models/kenlm/klm_mm_5.bin ../../data/transformed/micmac/test.txt adj \\\n",
    "            > ../../data/eval_out/kenlm/klm_05_mm_adj.txt\n",
    "\n",
    "!command python ../../src/eval/testKenlmModelGood.py ../../models/kenlm/klm_mm_6.bin ../../data/transformed/micmac/test.txt  \\\n",
    "            > ../../data/eval_out/kenlm/klm_06_mm.txt\n",
    "!command python ../../src/eval/testKenlmModelGood.py ../../models/kenlm/klm_mm_6.bin ../../data/transformed/micmac/test.txt adj \\\n",
    "            > ../../data/eval_out/kenlm/klm_06_mm_adj.txt\n",
    "\n"
   ]
  },
  {
   "cell_type": "markdown",
   "metadata": {},
   "source": [
    "## Get performance"
   ]
  },
  {
   "cell_type": "code",
   "execution_count": 2,
   "metadata": {},
   "outputs": [
    {
     "name": "stdout",
     "output_type": "stream",
     "text": [
      "2-gram\n",
      "Perplexity: 609.6250841991767\n",
      "Adjusted Perplexity: 3094.593053891356\n",
      "Perplexity: 3094.59305389085\n",
      "Adjusted Perplexity: 3094.59305389085\n",
      "\n",
      "3-gram\n",
      "Perplexity: 490.5022931216432\n",
      "Adjusted Perplexity: 2489.899166806742\n",
      "Perplexity: 2489.89916680666\n",
      "Adjusted Perplexity: 2489.89916680666\n",
      "\n",
      "4-gram\n",
      "Perplexity: 474.8664793477213\n",
      "Adjusted Perplexity: 2410.5282846845257\n",
      "Perplexity: 2410.528284684438\n",
      "Adjusted Perplexity: 2410.528284684438\n",
      "\n",
      "5-gram\n",
      "Perplexity: 475.51288947704563\n",
      "Adjusted Perplexity: 2413.8096068414075\n",
      "Perplexity: 2413.8096068413347\n",
      "Adjusted Perplexity: 2413.8096068413347\n",
      "\n",
      "6-gram\n",
      "Perplexity: 477.10505621549527\n",
      "Adjusted Perplexity: 2421.891800729339\n",
      "Perplexity: 2421.8918007292723\n",
      "Adjusted Perplexity: 2421.8918007292723\n"
     ]
    }
   ],
   "source": [
    "!command echo 2-gram\n",
    "!command python ../../src/eval/perplexity_adj.py ../../data/eval_out/kenlm/klm_02_mm.txt \n",
    "!command python ../../src/eval/perplexity_adj.py ../../data/eval_out/kenlm/klm_02_mm_adj.txt \n",
    "\n",
    "!command echo\n",
    "!command echo 3-gram\n",
    "!command python ../../src/eval/perplexity_adj.py ../../data/eval_out/kenlm/klm_03_mm.txt \n",
    "!command python ../../src/eval/perplexity_adj.py ../../data/eval_out/kenlm/klm_03_mm_adj.txt \n",
    "\n",
    "!command echo\n",
    "!command echo 4-gram\n",
    "!command python ../../src/eval/perplexity_adj.py ../../data/eval_out/kenlm/klm_04_mm.txt \n",
    "!command python ../../src/eval/perplexity_adj.py ../../data/eval_out/kenlm/klm_04_mm_adj.txt \n",
    "\n",
    "!command echo\n",
    "!command echo 5-gram\n",
    "!command python ../../src/eval/perplexity_adj.py ../../data/eval_out/kenlm/klm_05_mm.txt \n",
    "!command python ../../src/eval/perplexity_adj.py ../../data/eval_out/kenlm/klm_05_mm_adj.txt \n",
    "\n",
    "!command echo\n",
    "!command echo 6-gram\n",
    "!command python ../../src/eval/perplexity_adj.py ../../data/eval_out/kenlm/klm_06_mm.txt \n",
    "!command python ../../src/eval/perplexity_adj.py ../../data/eval_out/kenlm/klm_06_mm_adj.txt "
   ]
  }
 ],
 "metadata": {
  "kernelspec": {
   "display_name": "Python 3",
   "language": "python",
   "name": "python3"
  },
  "language_info": {
   "codemirror_mode": {
    "name": "ipython",
    "version": 3
   },
   "file_extension": ".py",
   "mimetype": "text/x-python",
   "name": "python",
   "nbconvert_exporter": "python",
   "pygments_lexer": "ipython3",
   "version": "3.7.0"
  }
 },
 "nbformat": 4,
 "nbformat_minor": 2
}
