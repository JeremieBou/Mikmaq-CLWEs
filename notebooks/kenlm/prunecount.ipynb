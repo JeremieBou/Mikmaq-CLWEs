{
 "cells": [
  {
   "cell_type": "markdown",
   "metadata": {},
   "source": [
    "# Base KenLM Models"
   ]
  },
  {
   "cell_type": "markdown",
   "metadata": {},
   "source": [
    "## Train models "
   ]
  },
  {
   "cell_type": "code",
   "execution_count": 6,
   "metadata": {},
   "outputs": [],
   "source": [
    "%%capture\n",
    "!command ./../../tools/kenlm/bin/lmplz -o 2 --skip_symbols --prune 1 < ../../data/transformed/micmac/train.txt  > ../../models/kenlm/klm_mm_prune_2.arpa \n",
    "!command ./../../tools/kenlm/bin/build_binary ../../models/kenlm/klm_mm_prune_2.arpa ../../models/kenlm/klm_mm_prune_2.bin\n",
    "\n",
    "!command ./../../tools/kenlm/bin/lmplz -o 3 --skip_symbols --prune 1 < ../../data/transformed/micmac/train.txt  > ../../models/kenlm/klm_mm_prune_3.arpa \n",
    "!command ./../../tools/kenlm/bin/build_binary ../../models/kenlm/klm_mm_prune_3.arpa ../../models/kenlm/klm_mm_prune_3.bin\n",
    "\n",
    "!command ./../../tools/kenlm/bin/lmplz -o 4 --skip_symbols --prune 1 < ../../data/transformed/micmac/train.txt  > ../../models/kenlm/klm_mm_prune_4.arpa \n",
    "!command ./../../tools/kenlm/bin/build_binary ../../models/kenlm/klm_mm_prune_4.arpa ../../models/kenlm/klm_mm_prune_4.bin\n",
    "\n",
    "!command ./../../tools/kenlm/bin/lmplz -o 5 --skip_symbols --prune 1 < ../../data/transformed/micmac/train.txt  > ../../models/kenlm/klm_mm_prune_5.arpa \n",
    "!command ./../../tools/kenlm/bin/build_binary ../../models/kenlm/klm_mm_prune_5.arpa ../../models/kenlm/klm_mm_prune_5.bin\n",
    "\n",
    "!command ./../../tools/kenlm/bin/lmplz -o 6 --skip_symbols --prune 1 < ../../data/transformed/micmac/train.txt  > ../../models/kenlm/klm_mm_prune_6.arpa \n",
    "!command ./../../tools/kenlm/bin/build_binary ../../models/kenlm/klm_mm_prune_6.arpa ../../models/kenlm/klm_mm_prune_6.bin\n"
   ]
  },
  {
   "cell_type": "markdown",
   "metadata": {},
   "source": [
    "## Generate evaluation"
   ]
  },
  {
   "cell_type": "code",
   "execution_count": 7,
   "metadata": {},
   "outputs": [],
   "source": [
    "!command python ../../src/eval/testKenlmModelGood.py ../../models/kenlm/klm_mm_prune_2.bin ../../data/transformed/micmac/dev.txt  \\\n",
    "            > ../../data/eval_out/kenlm/klm_02_mm_prune.txt\n",
    "!command python ../../src/eval/testKenlmModelGood.py ../../models/kenlm/klm_mm_prune_2.bin ../../data/transformed/micmac/dev.txt adj \\\n",
    "            > ../../data/eval_out/kenlm/klm_02_mm_prune_adj.txt\n",
    "\n",
    "!command python ../../src/eval/testKenlmModelGood.py ../../models/kenlm/klm_mm_prune_3.bin ../../data/transformed/micmac/dev.txt  \\\n",
    "            > ../../data/eval_out/kenlm/klm_03_mm_prune.txt\n",
    "!command python ../../src/eval/testKenlmModelGood.py ../../models/kenlm/klm_mm_prune_3.bin ../../data/transformed/micmac/dev.txt adj \\\n",
    "            > ../../data/eval_out/kenlm/klm_03_mm_prune_adj.txt\n",
    "\n",
    "!command python ../../src/eval/testKenlmModelGood.py ../../models/kenlm/klm_mm_prune_4.bin ../../data/transformed/micmac/dev.txt  \\\n",
    "            > ../../data/eval_out/kenlm/klm_04_mm_prune.txt\n",
    "!command python ../../src/eval/testKenlmModelGood.py ../../models/kenlm/klm_mm_prune_4.bin ../../data/transformed/micmac/dev.txt adj \\\n",
    "            > ../../data/eval_out/kenlm/klm_04_mm_prune_adj.txt\n",
    "\n",
    "!command python ../../src/eval/testKenlmModelGood.py ../../models/kenlm/klm_mm_prune_5.bin ../../data/transformed/micmac/dev.txt  \\\n",
    "            > ../../data/eval_out/kenlm/klm_05_mm_prune.txt\n",
    "!command python ../../src/eval/testKenlmModelGood.py ../../models/kenlm/klm_mm_prune_5.bin ../../data/transformed/micmac/dev.txt adj \\\n",
    "            > ../../data/eval_out/kenlm/klm_05_mm_prune_adj.txt\n",
    "\n",
    "!command python ../../src/eval/testKenlmModelGood.py ../../models/kenlm/klm_mm_prune_6.bin ../../data/transformed/micmac/dev.txt  \\\n",
    "            > ../../data/eval_out/kenlm/klm_06_mm_prune.txt\n",
    "!command python ../../src/eval/testKenlmModelGood.py ../../models/kenlm/klm_mm_prune_6.bin ../../data/transformed/micmac/dev.txt adj \\\n",
    "            > ../../data/eval_out/kenlm/klm_06_mm_prune_adj.txt\n",
    "\n"
   ]
  },
  {
   "cell_type": "markdown",
   "metadata": {},
   "source": [
    "## Get performance"
   ]
  },
  {
   "cell_type": "code",
   "execution_count": 8,
   "metadata": {},
   "outputs": [
    {
     "name": "stdout",
     "output_type": "stream",
     "text": [
      "2-gram\n",
      "Perplexity: 486.21638044229996\n",
      "Adjusted Perplexity: 4377.784545155248\n",
      "Perplexity: 4377.784545155855\n",
      "Adjusted Perplexity: 4377.784545155855\n",
      "\n",
      "3-gram\n",
      "Perplexity: 465.65614520657533\n",
      "Adjusted Perplexity: 4192.664743190058\n",
      "Perplexity: 4192.664743190446\n",
      "Adjusted Perplexity: 4192.664743190446\n",
      "\n",
      "4-gram\n",
      "Perplexity: 465.60693889470684\n",
      "Adjusted Perplexity: 4192.221700461984\n",
      "Perplexity: 4192.221700462401\n",
      "Adjusted Perplexity: 4192.221700462401\n",
      "\n",
      "5-gram\n",
      "Perplexity: 465.3992537250672\n",
      "Adjusted Perplexity: 4190.351749217072\n",
      "Perplexity: 4190.351749217526\n",
      "Adjusted Perplexity: 4190.351749217526\n",
      "\n",
      "6-gram\n",
      "Perplexity: 465.17663974103357\n",
      "Adjusted Perplexity: 4188.347382235538\n",
      "Perplexity: 4188.34738223597\n",
      "Adjusted Perplexity: 4188.34738223597\n"
     ]
    }
   ],
   "source": [
    "!command echo 2-gram\n",
    "!command python ../../src/eval/perplexity_adj.py ../../data/eval_out/kenlm/klm_02_mm_prune.txt \n",
    "!command python ../../src/eval/perplexity_adj.py ../../data/eval_out/kenlm/klm_02_mm_prune_adj.txt \n",
    "\n",
    "!command echo \n",
    "!command echo 3-gram\n",
    "!command python ../../src/eval/perplexity_adj.py ../../data/eval_out/kenlm/klm_03_mm_prune.txt \n",
    "!command python ../../src/eval/perplexity_adj.py ../../data/eval_out/kenlm/klm_03_mm_prune_adj.txt \n",
    "\n",
    "!command echo \n",
    "!command echo 4-gram\n",
    "!command python ../../src/eval/perplexity_adj.py ../../data/eval_out/kenlm/klm_04_mm_prune.txt \n",
    "!command python ../../src/eval/perplexity_adj.py ../../data/eval_out/kenlm/klm_04_mm_prune_adj.txt \n",
    "\n",
    "!command echo \n",
    "!command echo 5-gram\n",
    "!command python ../../src/eval/perplexity_adj.py ../../data/eval_out/kenlm/klm_05_mm_prune.txt \n",
    "!command python ../../src/eval/perplexity_adj.py ../../data/eval_out/kenlm/klm_05_mm_prune_adj.txt \n",
    "\n",
    "!command echo \n",
    "!command echo 6-gram\n",
    "!command python ../../src/eval/perplexity_adj.py ../../data/eval_out/kenlm/klm_06_mm_prune.txt \n",
    "!command python ../../src/eval/perplexity_adj.py ../../data/eval_out/kenlm/klm_06_mm_prune_adj.txt "
   ]
  }
 ],
 "metadata": {
  "kernelspec": {
   "display_name": "Python 3",
   "language": "python",
   "name": "python3"
  },
  "language_info": {
   "codemirror_mode": {
    "name": "ipython",
    "version": 3
   },
   "file_extension": ".py",
   "mimetype": "text/x-python",
   "name": "python",
   "nbconvert_exporter": "python",
   "pygments_lexer": "ipython3",
   "version": "3.7.0"
  }
 },
 "nbformat": 4,
 "nbformat_minor": 2
}
