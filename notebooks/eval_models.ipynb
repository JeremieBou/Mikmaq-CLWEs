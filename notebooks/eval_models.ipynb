{
 "cells": [
  {
   "cell_type": "code",
   "execution_count": 5,
   "metadata": {},
   "outputs": [
    {
     "name": "stdout",
     "output_type": "stream",
     "text": [
      "src/eval_model.py:71: UserWarning: Implicit dimension choice for softmax has been deprecated. Change the call to include dim=X as an argument.\n",
      "  probs = nn.Softmax()(output_flat[i])\n",
      "Perplexity: 850.9265242968389\n",
      "Adjusted Perplexity: 850.9265242968389\n",
      "Perplexity: 1461.8862954767762\n",
      "Adjusted Perplexity: 1461.8862954767762\n"
     ]
    }
   ],
   "source": [
    "!command python src/eval_model.py --model models/rnns/gru_200_1_5_tied.pt --data data/transformed/micmac > data/eval_out/mm_gru_200_1_5_tied.txt \n",
    "!command python src/eval/perplexity_adj.py data/eval_out/mm_gru_200_1_5_tied.txt \n",
    "!command python src/eval/perplexity_adj2.py data/eval_out/mm_gru_200_1_5_tied.txt "
   ]
  },
  {
   "cell_type": "code",
   "execution_count": 6,
   "metadata": {},
   "outputs": [
    {
     "name": "stdout",
     "output_type": "stream",
     "text": [
      "src/eval_model.py:71: UserWarning: Implicit dimension choice for softmax has been deprecated. Change the call to include dim=X as an argument.\n",
      "  probs = nn.Softmax()(output_flat[i])\n",
      "Perplexity: 719.7185814642132\n",
      "Adjusted Perplexity: 719.7185814642132\n",
      "Perplexity: 1219.2830586084924\n",
      "Adjusted Perplexity: 1219.2830586084924\n"
     ]
    }
   ],
   "source": [
    "!command python src/eval_model.py --model models/rnns/gru_200_1_5_tied_normnorm.pt --data data/transformed/micmac > data/eval_out/mm_gru_200_1_5_tied_normnorm.txt \n",
    "!command python src/eval/perplexity_adj.py data/eval_out/mm_gru_200_1_5_tied_normnorm.txt \n",
    "!command python src/eval/perplexity_adj2.py data/eval_out/mm_gru_200_1_5_tied_normnorm.txt "
   ]
  },
  {
   "cell_type": "code",
   "execution_count": 7,
   "metadata": {},
   "outputs": [
    {
     "name": "stdout",
     "output_type": "stream",
     "text": [
      "src/eval_model.py:71: UserWarning: Implicit dimension choice for softmax has been deprecated. Change the call to include dim=X as an argument.\n",
      "  probs = nn.Softmax()(output_flat[i])\n",
      "Perplexity: 691.7629395022607\n",
      "Adjusted Perplexity: 691.7629395022607\n",
      "Perplexity: 1166.6232819243419\n",
      "Adjusted Perplexity: 1166.6232819243419\n"
     ]
    }
   ],
   "source": [
    "!command python src/eval_model.py --model models/rnns/gru_200_1_5_tied_skipgram.pt --data data/transformed/micmac > data/eval_out/mm_gru_200_1_5_tied_skipgram.txt \n",
    "!command python src/eval/perplexity_adj.py data/eval_out/mm_gru_200_1_5_tied_skipgram.txt \n",
    "!command python src/eval/perplexity_adj2.py data/eval_out/mm_gru_200_1_5_tied_skipgram.txt "
   ]
  },
  {
   "cell_type": "code",
   "execution_count": 8,
   "metadata": {},
   "outputs": [
    {
     "name": "stdout",
     "output_type": "stream",
     "text": [
      "src/eval_model.py:71: UserWarning: Implicit dimension choice for softmax has been deprecated. Change the call to include dim=X as an argument.\n",
      "  probs = nn.Softmax()(output_flat[i])\n",
      "Perplexity: 770.8253625229868\n",
      "Adjusted Perplexity: 770.8253625229868\n",
      "Perplexity: 1315.8119827179794\n",
      "Adjusted Perplexity: 1315.8119827179794\n"
     ]
    }
   ],
   "source": [
    "!command python src/eval_model.py --model models/rnns/gru_200_1_5_skipgram.pt --data data/transformed/micmac > data/eval_out/mm_gru_200_1_5_skipgram.txt \n",
    "!command python src/eval/perplexity_adj.py data/eval_out/mm_gru_200_1_5_skipgram.txt \n",
    "!command python src/eval/perplexity_adj2.py data/eval_out/mm_gru_200_1_5_skipgram.txt "
   ]
  },
  {
   "cell_type": "code",
   "execution_count": 10,
   "metadata": {},
   "outputs": [
    {
     "name": "stdout",
     "output_type": "stream",
     "text": [
      "src/eval_model.py:71: UserWarning: Implicit dimension choice for softmax has been deprecated. Change the call to include dim=X as an argument.\n",
      "  probs = nn.Softmax()(output_flat[i])\n",
      "Perplexity: 910.381724526327\n",
      "Adjusted Perplexity: 910.381724526327\n",
      "Perplexity: 1574.6791831616326\n",
      "Adjusted Perplexity: 1574.6791831616326\n"
     ]
    }
   ],
   "source": [
    "!command python src/eval_model.py --model models/rnns/gru_200_1_5_cbow.pt --data data/transformed/micmac > data/eval_out/mm_gru_200_1_5_cbow.txt \n",
    "!command python src/eval/perplexity_adj.py data/eval_out/mm_gru_200_1_5_cbow.txt \n",
    "!command python src/eval/perplexity_adj2.py data/eval_out/mm_gru_200_1_5_cbow.txt "
   ]
  },
  {
   "cell_type": "code",
   "execution_count": 11,
   "metadata": {},
   "outputs": [
    {
     "name": "stdout",
     "output_type": "stream",
     "text": [
      "src/eval_model.py:71: UserWarning: Implicit dimension choice for softmax has been deprecated. Change the call to include dim=X as an argument.\n",
      "  probs = nn.Softmax()(output_flat[i])\n",
      "Perplexity: 948.054559571386\n",
      "Adjusted Perplexity: 948.054559571386\n",
      "Perplexity: 1638.517959441957\n",
      "Adjusted Perplexity: 1638.517959441957\n"
     ]
    }
   ],
   "source": [
    "!command python src/eval_model.py --model models/rnns/gru_200_1_5_tied_cbow.pt --data data/transformed/micmac > data/eval_out/mm_gru_200_1_5_tied_cbow.txt \n",
    "!command python src/eval/perplexity_adj.py data/eval_out/mm_gru_200_1_5_tied_cbow.txt \n",
    "!command python src/eval/perplexity_adj2.py data/eval_out/mm_gru_200_1_5_tied_cbow.txt "
   ]
  },
  {
   "cell_type": "code",
   "execution_count": 1,
   "metadata": {},
   "outputs": [
    {
     "name": "stdout",
     "output_type": "stream",
     "text": [
      "-52044.66765106531\n",
      "6.2985196237523065\n",
      "12609.319024854654\n",
      "7.824517327353257\n",
      "1702\n",
      "7.408530566894626\n",
      "Perplexity: 543.766335229108\n",
      "Adjusted Perplexity: 2501.178568960091\n"
     ]
    }
   ],
   "source": [
    "!command python src/eval/testKenlmModelGood.py models/kenlm/klm_mm_2.bin data/transformed/micmac/dev.txt data/vocabs/micmac/train.txt-Vocab.json \\\n",
    "            > data/eval_out/klm_02_mm.txt\n",
    "!command python src/eval/perplexity_adj.py data/eval_out/klm_02_mm.txt "
   ]
  },
  {
   "cell_type": "code",
   "execution_count": 2,
   "metadata": {},
   "outputs": [
    {
     "name": "stdout",
     "output_type": "stream",
     "text": [
      "-50041.993752004666\n",
      "6.056153183105974\n",
      "12609.319024854654\n",
      "7.582150886706924\n",
      "1702\n",
      "7.408530566894626\n",
      "Perplexity: 426.730720481374\n",
      "Adjusted Perplexity: 1962.8462882594742\n"
     ]
    }
   ],
   "source": [
    "!command python src/eval/testKenlmModelGood.py models/kenlm/klm_mm_3.bin data/transformed/micmac/dev.txt data/vocabs/micmac/train.txt-Vocab.json \\\n",
    "            > data/eval_out/klm_03_mm.txt\n",
    "!command python src/eval/perplexity_adj.py data/eval_out/klm_03_mm.txt "
   ]
  },
  {
   "cell_type": "code",
   "execution_count": 3,
   "metadata": {},
   "outputs": [
    {
     "name": "stdout",
     "output_type": "stream",
     "text": [
      "-49776.00969591497\n",
      "6.023963414730118\n",
      "12609.319024854654\n",
      "7.549961118331068\n",
      "1702\n",
      "7.408530566894626\n",
      "Perplexity: 413.21308934396865\n",
      "Adjusted Perplexity: 1900.6688287267125\n"
     ]
    }
   ],
   "source": [
    "!command python src/eval/testKenlmModelGood.py models/kenlm/klm_mm_4.bin data/transformed/micmac/dev.txt data/vocabs/micmac/train.txt-Vocab.json \\\n",
    "            > data/eval_out/klm_04_mm.txt\n",
    "!command python src/eval/perplexity_adj.py data/eval_out/klm_04_mm.txt "
   ]
  },
  {
   "cell_type": "code",
   "execution_count": 4,
   "metadata": {},
   "outputs": [
    {
     "name": "stdout",
     "output_type": "stream",
     "text": [
      "-49783.64783260979\n",
      "6.024887792885125\n",
      "12609.319024854654\n",
      "7.550885496486075\n",
      "1702\n",
      "7.408530566894626\n",
      "Perplexity: 413.5952310916522\n",
      "Adjusted Perplexity: 1902.4265777591318\n"
     ]
    }
   ],
   "source": [
    "!command python src/eval/testKenlmModelGood.py models/kenlm/klm_mm_5.bin data/transformed/micmac/dev.txt data/vocabs/micmac/train.txt-Vocab.json \\\n",
    "            > data/eval_out/klm_05_mm.txt\n",
    "!command python src/eval/perplexity_adj.py data/eval_out/klm_05_mm.txt "
   ]
  },
  {
   "cell_type": "code",
   "execution_count": 5,
   "metadata": {},
   "outputs": [
    {
     "name": "stdout",
     "output_type": "stream",
     "text": [
      "-49818.97836223647\n",
      "6.0291635437778615\n",
      "12609.319024854654\n",
      "7.555161247378812\n",
      "1702\n",
      "7.408530566894626\n",
      "Perplexity: 415.36744734786623\n",
      "Adjusted Perplexity: 1910.5782948339622\n"
     ]
    }
   ],
   "source": [
    "!command python src/eval/testKenlmModelGood.py models/kenlm/klm_mm_6.bin data/transformed/micmac/dev.txt data/vocabs/micmac/train.txt-Vocab.json \\\n",
    "            > data/eval_out/klm_06_mm.txt\n",
    "!command python src/eval/perplexity_adj.py data/eval_out/klm_06_mm.txt "
   ]
  },
  {
   "cell_type": "code",
   "execution_count": null,
   "metadata": {},
   "outputs": [],
   "source": []
  }
 ],
 "metadata": {
  "kernelspec": {
   "display_name": "Python 3",
   "language": "python",
   "name": "python3"
  },
  "language_info": {
   "codemirror_mode": {
    "name": "ipython",
    "version": 3
   },
   "file_extension": ".py",
   "mimetype": "text/x-python",
   "name": "python",
   "nbconvert_exporter": "python",
   "pygments_lexer": "ipython3",
   "version": "3.7.0"
  }
 },
 "nbformat": 4,
 "nbformat_minor": 2
}
