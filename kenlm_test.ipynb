{
 "cells": [
  {
   "cell_type": "code",
   "execution_count": 2,
   "metadata": {},
   "outputs": [],
   "source": [
    "import kenlm"
   ]
  },
  {
   "cell_type": "code",
   "execution_count": 21,
   "metadata": {},
   "outputs": [],
   "source": [
    "import math"
   ]
  },
  {
   "cell_type": "code",
   "execution_count": 3,
   "metadata": {},
   "outputs": [],
   "source": [
    "model = kenlm.Model('lm.binary')"
   ]
  },
  {
   "cell_type": "code",
   "execution_count": 13,
   "metadata": {},
   "outputs": [
    {
     "data": {
      "text/plain": [
       "-38372.81640625"
      ]
     },
     "execution_count": 13,
     "metadata": {},
     "output_type": "execute_result"
    }
   ],
   "source": [
    "model.score(content.replace('\\n', ' '))"
   ]
  },
  {
   "cell_type": "code",
   "execution_count": 14,
   "metadata": {},
   "outputs": [
    {
     "data": {
      "text/plain": [
       "12953.922268914164"
      ]
     },
     "execution_count": 14,
     "metadata": {},
     "output_type": "execute_result"
    }
   ],
   "source": [
    "model.perplexity(content.replace('\\n', ' '))"
   ]
  },
  {
   "cell_type": "code",
   "execution_count": 38,
   "metadata": {},
   "outputs": [],
   "source": [
    "logP = 0\n",
    "N = 0\n",
    "total_ppl = 0\n",
    "with open('data/reuters/dev.txt') as f:\n",
    "    for x in f:\n",
    "        x = x.replace('\\n', '')\n",
    "        if x != '<s>' and x != '</s>':\n",
    "            N += 1\n",
    "            logP += model.score(x)\n",
    "            total_ppl += model.perplexity(x)"
   ]
  },
  {
   "cell_type": "code",
   "execution_count": 48,
   "metadata": {},
   "outputs": [
    {
     "name": "stdout",
     "output_type": "stream",
     "text": [
      "22.532553301379455\n",
      "1303.049989229459\n"
     ]
    }
   ],
   "source": [
    "HW = (-1/N) * logP\n",
    "perplextiy = math.exp(HW)\n",
    "print(perplextiy)\n",
    "print(10 ** HW)"
   ]
  },
  {
   "cell_type": "code",
   "execution_count": 41,
   "metadata": {},
   "outputs": [
    {
     "data": {
      "text/plain": [
       "119.67543936781702"
      ]
     },
     "execution_count": 41,
     "metadata": {},
     "output_type": "execute_result"
    }
   ],
   "source": [
    "total_ppl/N"
   ]
  },
  {
   "cell_type": "code",
   "execution_count": 49,
   "metadata": {},
   "outputs": [
    {
     "data": {
      "text/plain": [
       "5.6937321388027"
      ]
     },
     "execution_count": 49,
     "metadata": {},
     "output_type": "execute_result"
    }
   ],
   "source": [
    "math.log(297)"
   ]
  },
  {
   "cell_type": "code",
   "execution_count": 50,
   "metadata": {},
   "outputs": [],
   "source": [
    "modelmic = kenlm.Model('lm_mic.binary')"
   ]
  },
  {
   "cell_type": "code",
   "execution_count": 51,
   "metadata": {},
   "outputs": [],
   "source": [
    "logP = 0\n",
    "N = 0\n",
    "total_ppl = 0\n",
    "with open('data/micmac/dev.txt') as f:\n",
    "    for x in f:\n",
    "        x = x.replace('\\n', '')\n",
    "        if x != '<s>' and x != '</s>':\n",
    "            N += 1\n",
    "            logP += model.score(x)\n",
    "            total_ppl += model.perplexity(x)"
   ]
  },
  {
   "cell_type": "code",
   "execution_count": 52,
   "metadata": {},
   "outputs": [
    {
     "name": "stdout",
     "output_type": "stream",
     "text": [
      "176.52685286552614\n",
      "149098.40779021656\n"
     ]
    }
   ],
   "source": [
    "HW = (-1/N) * logP\n",
    "perplextiy = math.exp(HW)\n",
    "print(perplextiy)\n",
    "print(10 ** HW)"
   ]
  }
 ],
 "metadata": {
  "kernelspec": {
   "display_name": "Python 3",
   "language": "python",
   "name": "python3"
  },
  "language_info": {
   "codemirror_mode": {
    "name": "ipython",
    "version": 3
   },
   "file_extension": ".py",
   "mimetype": "text/x-python",
   "name": "python",
   "nbconvert_exporter": "python",
   "pygments_lexer": "ipython3",
   "version": "3.7.0"
  }
 },
 "nbformat": 4,
 "nbformat_minor": 2
}
