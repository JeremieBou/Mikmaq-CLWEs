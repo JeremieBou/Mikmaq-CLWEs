{
 "cells": [
  {
   "cell_type": "code",
   "execution_count": 1,
   "metadata": {},
   "outputs": [],
   "source": [
    "import kenlm"
   ]
  },
  {
   "cell_type": "code",
   "execution_count": 2,
   "metadata": {},
   "outputs": [],
   "source": [
    "import math"
   ]
  },
  {
   "cell_type": "code",
   "execution_count": 37,
   "metadata": {},
   "outputs": [],
   "source": [
    "%%capture\n",
    "\n",
    "!command kenlm/build/bin/lmplz -o 2 < data/transformed/reuters/train.txt > models/reuters_2_lm.binary\n",
    "!command kenlm/build/bin/lmplz -o 3 < data/transformed/reuters/train.txt > models/reuters_3_lm.binary\n",
    "!command kenlm/build/bin/lmplz -o 4 < data/transformed/reuters/train.txt > models/reuters_4_lm.binary\n",
    "!command kenlm/build/bin/lmplz -o 5 < data/transformed/reuters/train.txt > models/reuters_5_lm.binary\n",
    "!command kenlm/build/bin/lmplz -o 6 < data/transformed/reuters/train.txt > models/reuters_6_lm.binary\n",
    "\n",
    "\n",
    "!command kenlm/build/bin/lmplz -o 2 < data/transformed/micmac/train.txt > models/micmac_2_lm.binary\n",
    "!command kenlm/build/bin/lmplz -o 3 < data/transformed/micmac/train.txt > models/micmac_3_lm.binary\n",
    "!command kenlm/build/bin/lmplz -o 4 < data/transformed/micmac/train.txt > models/micmac_4_lm.binary\n",
    "!command kenlm/build/bin/lmplz -o 5 < data/transformed/micmac/train.txt > models/micmac_5_lm.binary\n",
    "!command kenlm/build/bin/lmplz -o 6 < data/transformed/micmac/train.txt > models/micmac_6_lm.binary"
   ]
  },
  {
   "cell_type": "code",
   "execution_count": 21,
   "metadata": {},
   "outputs": [],
   "source": [
    "def test_lm(lm_file, test_file):    \n",
    "    model = kenlm.Model(lm_file)\n",
    "    f = open(test_file).read()\n",
    "    \n",
    "    probs = []\n",
    "\n",
    "    for i in model.full_scores(f):\n",
    "        probs.append(i[0])\n",
    "        \n",
    "    logP = sum(probs)\n",
    "    N = len(probs)\n",
    "    HW = (-1/N) * logP\n",
    "    manual_ppl = 10 ** HW\n",
    "    return model.score(f), model.perplexity(f), manual_ppl"
   ]
  },
  {
   "cell_type": "code",
   "execution_count": 22,
   "metadata": {},
   "outputs": [
    {
     "name": "stdout",
     "output_type": "stream",
     "text": [
      "(-21260.51953125, 265.43376416226744, 265.42627083438447)\n",
      "(-20839.6640625, 237.6695568033179, 237.66881246333563)\n",
      "(-20823.486328125, 236.66230992016045, 236.6633042814767)\n",
      "(-20826.66796875, 236.86006524461953, 236.8604973949969)\n",
      "(-20822.61328125, 236.6080744423087, 236.60678361083757)\n"
     ]
    }
   ],
   "source": [
    "print(test_lm('models/reuters_2_lm.binary', 'data/transformed/reuters/dev.txt'))\n",
    "print(test_lm('models/reuters_3_lm.binary', 'data/transformed/reuters/dev.txt'))\n",
    "print(test_lm('models/reuters_4_lm.binary', 'data/transformed/reuters/dev.txt'))\n",
    "print(test_lm('models/reuters_5_lm.binary', 'data/transformed/reuters/dev.txt'))\n",
    "print(test_lm('models/reuters_6_lm.binary', 'data/transformed/reuters/dev.txt'))"
   ]
  },
  {
   "cell_type": "code",
   "execution_count": 23,
   "metadata": {},
   "outputs": [
    {
     "name": "stdout",
     "output_type": "stream",
     "text": [
      "(-25851.9375, 2442.037116609051, 2442.050192102226)\n",
      "(-25558.458984375, 2235.082393395407, 2234.9596062312185)\n",
      "(-25547.767578125, 2227.883557583863, 2227.7554885774907)\n",
      "(-25546.9375, 2227.3256126929823, 2227.1965894955533)\n",
      "(-25549.369140625, 2228.960458030258, 2228.8356743628206)\n"
     ]
    }
   ],
   "source": [
    "print(test_lm('models/micmac_2_lm.binary', 'data/transformed/micmac/dev.txt'))\n",
    "print(test_lm('models/micmac_3_lm.binary', 'data/transformed/micmac/dev.txt'))\n",
    "print(test_lm('models/micmac_4_lm.binary', 'data/transformed/micmac/dev.txt'))\n",
    "print(test_lm('models/micmac_5_lm.binary', 'data/transformed/micmac/dev.txt'))\n",
    "print(test_lm('models/micmac_6_lm.binary', 'data/transformed/micmac/dev.txt'))"
   ]
  }
 ],
 "metadata": {
  "kernelspec": {
   "display_name": "Python 3",
   "language": "python",
   "name": "python3"
  },
  "language_info": {
   "codemirror_mode": {
    "name": "ipython",
    "version": 3
   },
   "file_extension": ".py",
   "mimetype": "text/x-python",
   "name": "python",
   "nbconvert_exporter": "python",
   "pygments_lexer": "ipython3",
   "version": "3.7.0"
  }
 },
 "nbformat": 4,
 "nbformat_minor": 2
}
