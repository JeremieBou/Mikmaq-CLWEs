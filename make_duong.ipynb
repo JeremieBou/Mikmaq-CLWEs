{
 "cells": [
  {
   "cell_type": "code",
   "execution_count": null,
   "metadata": {},
   "outputs": [
    {
     "name": "stdout",
     "output_type": "stream",
     "text": [
      "wikiextractor/WikiExtractor.py:2432: DeprecationWarning: Flags not at the start of the expression '\\\\[(((?i)bitcoin:|ftp' (truncated)\n",
      "  re.S | re.U)\n",
      "wikiextractor/WikiExtractor.py:2439: DeprecationWarning: Flags not at the start of the expression '^(http://|https://)(' (truncated)\n",
      "  re.X | re.S | re.U)\n",
      "INFO: 11508\tFrancis Drake\n",
      "INFO: 11512\tFast Fourier transform\n",
      "INFO: 11507\tFort Collins, Colorado\n",
      "INFO: 11513\tFort William, Highland\n",
      "INFO: 11515\tGlossary of French expressions in English\n",
      "INFO: 11516\tFinancial rand\n",
      "INFO: 11517\tList of FIPS country codes\n",
      "INFO: 11519\tFair Isle\n",
      "INFO: 11520\tFour Feather Falls\n",
      "INFO: 11522\tFly-by-wire\n",
      "INFO: 11523\tFalklands War\n",
      "INFO: 11524\tFahrenheit\n",
      "INFO: 11525\tFlorence\n",
      "INFO: 11526\tQuotient group\n",
      "INFO: 11527\tFundamental theorem on homomorphisms\n",
      "INFO: 11528\tFCO\n",
      "INFO: 11529\tFermion\n",
      "INFO: 11530\tFred Savage\n",
      "INFO: 11531\tFuturians\n",
      "INFO: 11532\tFirst Fandom\n",
      "INFO: 11536\tFianna Fáil\n",
      "INFO: 11539\tFujiwara clan\n",
      "INFO: 11543\tFirmin Abauzit\n",
      "INFO: 11542\tFederalism\n",
      "INFO: 11544\tFrench Foreign Legion\n",
      "INFO: 11545\tFeedback\n",
      "INFO: 11547\tFurigana\n",
      "INFO: 11551\tFrancis II, Holy Roman Emperor\n",
      "INFO: 11552\tFrederick Abel\n",
      "INFO: 11554\tFugazi (disambiguation)\n",
      "INFO: 11555\tFluorescence\n",
      "INFO: 11556\tFundamental theorem of arithmetic\n",
      "INFO: 11558\tFlamenco\n",
      "INFO: 11561\tFather Christmas\n",
      "INFO: 11563\tFederal jurisdiction (United States)\n",
      "INFO: 11569\tFrequency modulation synthesis\n",
      "INFO: 53143535\tVictor Rios\n",
      "INFO: 53143554\tSzabolcs Hajdu\n",
      "INFO: 5"
     ]
    }
   ],
   "source": [
    "!command python wikiextractor/WikiExtractor.py -o /media/jeremie/Main\\ Files6/wikidump/extracted --no-templates --processes 8 /media/jeremie/Main\\ Files6/wikidump/enwiki-latest-pages-articles.xml"
   ]
  },
  {
   "cell_type": "code",
   "execution_count": null,
   "metadata": {},
   "outputs": [],
   "source": [
    "!command python src/data/process_wikipedia.py /media/jeremie/Main\\ Files6/wikidump/extracted > /media/jeremie/Main\\ Files6/wikidump/processecd_wiki.txt"
   ]
  },
  {
   "cell_type": "code",
   "execution_count": null,
   "metadata": {},
   "outputs": [],
   "source": [
    "!command python src/data/subset_file.py /media/jeremie/Main\\ Files6/wikidump/processecd_wiki.txt 5000000 > data/wikitext/en_5mil.txt"
   ]
  },
  {
   "cell_type": "code",
   "execution_count": null,
   "metadata": {},
   "outputs": [],
   "source": [
    "!command python src/data/subset_file.py /media/jeremie/Main\\ Files6/wikidump/processecd_wiki.txt 200000 > data/wikitext/en_200k.txt"
   ]
  },
  {
   "cell_type": "code",
   "execution_count": null,
   "metadata": {},
   "outputs": [],
   "source": [
    "!command python src/data/duong_format.py data/wikitext/en_5mil.txt en > data/transformed/duong_data/en_5mil_duong.txt"
   ]
  },
  {
   "cell_type": "code",
   "execution_count": null,
   "metadata": {},
   "outputs": [],
   "source": [
    "!command python src/data/duong_format.py data/wikitext/en_200k.txt en > data/transformed/duong_data/en_200k_duong.txt"
   ]
  },
  {
   "cell_type": "code",
   "execution_count": null,
   "metadata": {},
   "outputs": [],
   "source": [
    "!command python src/data/randomly_merge.py data/transformed/duong_data/en_5mil_duong.txt data/transformed/duong_data/micmac_duong.txt 5000000 5080"
   ]
  },
  {
   "cell_type": "code",
   "execution_count": null,
   "metadata": {},
   "outputs": [],
   "source": [
    "!command python src/data/randomly_merge.py data/transformed/duong_data/en_200k_duong.txt data/transformed/duong_data/micmac_duong.txt 200000 5080"
   ]
  },
  {
   "cell_type": "code",
   "execution_count": null,
   "metadata": {},
   "outputs": [],
   "source": [
    "!command ./tools/XlingualEmb/xlingemb \\\n",
    "            -train data/transformed/duong_data/en200k_mi.txt \\\n",
    "            -output models/embeddings/duong/en200k.mi.word300.emb \\\n",
    "            -size 300 \\\n",
    "            -window 48 \\\n",
    "            -iter 15 \\\n",
    "            -negative 25 \\\n",
    "            -sample 0.0001 \\\n",
    "            -alpha 0.025 \\\n",
    "            -cbow 1 \\\n",
    "            -threads 8 \\\n",
    "            -dict data/lexicon/eng-mic3.txt \\\n",
    "            -outputn en200k.it.context300.emb\n"
   ]
  },
  {
   "cell_type": "code",
   "execution_count": null,
   "metadata": {},
   "outputs": [],
   "source": [
    "!command ./tools/XlingualEmb/xlingemb \\\n",
    "            -train data/transformed/duong_data/en200k_mi.txt \\\n",
    "            -output models/embeddings/duong/en200k.mi.word200.emb \\\n",
    "            -size 200 \\\n",
    "            -window 48 \\\n",
    "            -iter 15 \\\n",
    "            -negative 25 \\\n",
    "            -sample 0.0001 \\\n",
    "            -alpha 0.025 \\\n",
    "            -cbow 1 \\\n",
    "            -threads 8 \\\n",
    "            -dict data/lexicon/eng-mic3.txt \\\n",
    "            -outputn en200k.it.context200.emb\n"
   ]
  },
  {
   "cell_type": "code",
   "execution_count": null,
   "metadata": {},
   "outputs": [],
   "source": [
    "!command ./tools/XlingualEmb/xlingemb \\\n",
    "            -train data/transformed/duong_data/en5mil_mi.txt \\\n",
    "            -output models/embeddings/duong/en5mil.mi.word300.emb \\\n",
    "            -size 300 \\\n",
    "            -window 48 \\\n",
    "            -iter 15 \\\n",
    "            -negative 25 \\\n",
    "            -sample 0.0001 \\\n",
    "            -alpha 0.025 \\\n",
    "            -cbow 1 \\\n",
    "            -threads 8 \\\n",
    "            -dict data/lexicon/eng-mic3.txt \\\n",
    "            -outputn en5mil.it.context300.emb\n"
   ]
  },
  {
   "cell_type": "code",
   "execution_count": null,
   "metadata": {},
   "outputs": [],
   "source": [
    "!command ./tools/XlingualEmb/xlingemb \\\n",
    "            -train data/transformed/duong_data/en5mil_mi.txt \\\n",
    "            -output models/embeddings/duong/en5mil.mi.word200.emb \\\n",
    "            -size 200 \\\n",
    "            -window 48 \\\n",
    "            -iter 15 \\\n",
    "            -negative 25 \\\n",
    "            -sample 0.0001 \\\n",
    "            -alpha 0.025 \\\n",
    "            -cbow 1 \\\n",
    "            -threads 8 \\\n",
    "            -dict data/lexicon/eng-mic3.txt \\\n",
    "            -outputn en5mil.it.context200.emb\n"
   ]
  },
  {
   "cell_type": "code",
   "execution_count": null,
   "metadata": {},
   "outputs": [],
   "source": []
  }
 ],
 "metadata": {
  "kernelspec": {
   "display_name": "Python 3",
   "language": "python",
   "name": "python3"
  },
  "language_info": {
   "codemirror_mode": {
    "name": "ipython",
    "version": 3
   },
   "file_extension": ".py",
   "mimetype": "text/x-python",
   "name": "python",
   "nbconvert_exporter": "python",
   "pygments_lexer": "ipython3",
   "version": "3.7.0"
  }
 },
 "nbformat": 4,
 "nbformat_minor": 2
}
