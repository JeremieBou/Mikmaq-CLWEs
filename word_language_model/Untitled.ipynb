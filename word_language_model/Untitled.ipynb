{
 "cells": [
  {
   "cell_type": "code",
   "execution_count": 2,
   "metadata": {},
   "outputs": [
    {
     "name": "stdout",
     "output_type": "stream",
     "text": [
      "| epoch   1 |    25/   97 batches | lr 20.00 | ms/batch 136.15 | loss  8.27 | ppl  3908.84\n",
      "| epoch   1 |    50/   97 batches | lr 20.00 | ms/batch 130.31 | loss  6.98 | ppl  1079.84\n",
      "| epoch   1 |    75/   97 batches | lr 20.00 | ms/batch 132.60 | loss  6.85 | ppl   943.07\n",
      "-----------------------------------------------------------------------------------------\n",
      "| end of epoch   1 | time: 13.36s | valid loss  6.49 | valid ppl   660.39\n",
      "-----------------------------------------------------------------------------------------\n",
      "=========================================================================================\n",
      "| End of training | test loss  6.49 | test ppl   660.39\n",
      "=========================================================================================\n"
     ]
    }
   ],
   "source": [
    "!command python main.py --data ./data/reuters --epochs=20 --model LSTM --log-interval 25"
   ]
  },
  {
   "cell_type": "code",
   "execution_count": 3,
   "metadata": {},
   "outputs": [
    {
     "name": "stdout",
     "output_type": "stream",
     "text": [
      "| epoch   1 |    25/   97 batches | lr 20.00 | ms/batch 124.33 | loss  9.80 | ppl 18067.60\n",
      "| epoch   1 |    50/   97 batches | lr 20.00 | ms/batch 124.42 | loss  8.56 | ppl  5230.01\n",
      "| epoch   1 |    75/   97 batches | lr 20.00 | ms/batch 124.81 | loss  8.11 | ppl  3333.08\n",
      "-----------------------------------------------------------------------------------------\n",
      "| end of epoch   1 | time: 12.61s | valid loss  6.83 | valid ppl   923.16\n",
      "-----------------------------------------------------------------------------------------\n",
      "=========================================================================================\n",
      "| End of training | test loss  6.83 | test ppl   923.16\n",
      "=========================================================================================\n"
     ]
    }
   ],
   "source": [
    "!command python main.py --data ./data/reuters --epochs=20 --model GRU --log-interval 25"
   ]
  },
  {
   "cell_type": "code",
   "execution_count": 4,
   "metadata": {},
   "outputs": [
    {
     "name": "stdout",
     "output_type": "stream",
     "text": [
      "| epoch   1 |    25/   97 batches | lr 20.00 | ms/batch 93.02 | loss 12.76 | ppl 347715.32\n",
      "| epoch   1 |    50/   97 batches | lr 20.00 | ms/batch 87.34 | loss 14.42 | ppl 1823528.98\n",
      "| epoch   1 |    75/   97 batches | lr 20.00 | ms/batch 87.65 | loss 14.62 | ppl 2246560.90\n",
      "-----------------------------------------------------------------------------------------\n",
      "| end of epoch   1 | time:  9.04s | valid loss 17.41 | valid ppl 36216046.10\n",
      "-----------------------------------------------------------------------------------------\n",
      "=========================================================================================\n",
      "| End of training | test loss 17.41 | test ppl 36216046.10\n",
      "=========================================================================================\n"
     ]
    }
   ],
   "source": [
    "!command python main.py --data ./data/reuters --epochs=20 --model RNN_TANH --log-interval 25"
   ]
  },
  {
   "cell_type": "code",
   "execution_count": 12,
   "metadata": {},
   "outputs": [
    {
     "name": "stdout",
     "output_type": "stream",
     "text": [
      "Traceback (most recent call last):\n",
      "  File \"main.py\", line 196, in <module>\n",
      "    train()\n",
      "  File \"main.py\", line 174, in train\n",
      "    elapsed * 1000 / args.log_interval, cur_loss, math.exp(cur_loss)))\n",
      "OverflowError: math range error\n"
     ]
    }
   ],
   "source": [
    "!command python main.py --data ./data/reuters --epochs=20 --model RNN_RELU --log-interval 25"
   ]
  },
  {
   "cell_type": "code",
   "execution_count": 8,
   "metadata": {},
   "outputs": [
    {
     "name": "stdout",
     "output_type": "stream",
     "text": [
      "| epoch   1 |    25/   93 batches | lr 20.00 | ms/batch 237.20 | loss  9.02 | ppl  8284.26\n",
      "| epoch   1 |    50/   93 batches | lr 20.00 | ms/batch 220.79 | loss  7.88 | ppl  2641.32\n",
      "| epoch   1 |    75/   93 batches | lr 20.00 | ms/batch 228.62 | loss  7.57 | ppl  1947.07\n",
      "-----------------------------------------------------------------------------------------\n",
      "| end of epoch   1 | time: 21.89s | valid loss  7.24 | valid ppl  1390.48\n",
      "-----------------------------------------------------------------------------------------\n",
      "=========================================================================================\n",
      "| End of training | test loss  7.24 | test ppl  1390.48\n",
      "=========================================================================================\n"
     ]
    }
   ],
   "source": [
    "!command python main.py --data ./data/micmac --epochs=20 --model LSTM --log-interval 25"
   ]
  },
  {
   "cell_type": "code",
   "execution_count": 9,
   "metadata": {},
   "outputs": [
    {
     "name": "stdout",
     "output_type": "stream",
     "text": [
      "| epoch   1 |    25/   93 batches | lr 20.00 | ms/batch 227.80 | loss 11.50 | ppl 99103.11\n",
      "| epoch   1 |    50/   93 batches | lr 20.00 | ms/batch 225.90 | loss  9.18 | ppl  9699.14\n",
      "| epoch   1 |    75/   93 batches | lr 20.00 | ms/batch 228.78 | loss  8.79 | ppl  6537.12\n",
      "-----------------------------------------------------------------------------------------\n",
      "| end of epoch   1 | time: 21.67s | valid loss  8.10 | valid ppl  3297.20\n",
      "-----------------------------------------------------------------------------------------\n",
      "=========================================================================================\n",
      "| End of training | test loss  8.10 | test ppl  3297.20\n",
      "=========================================================================================\n"
     ]
    }
   ],
   "source": [
    "!command python main.py --data ./data/micmac --epochs=20 --model GRU --log-interval 25"
   ]
  },
  {
   "cell_type": "code",
   "execution_count": 10,
   "metadata": {},
   "outputs": [
    {
     "name": "stdout",
     "output_type": "stream",
     "text": [
      "| epoch   1 |    25/   93 batches | lr 20.00 | ms/batch 197.71 | loss 17.38 | ppl 35216371.68\n",
      "| epoch   1 |    50/   93 batches | lr 20.00 | ms/batch 193.18 | loss 19.65 | ppl 341102480.56\n",
      "| epoch   1 |    75/   93 batches | lr 20.00 | ms/batch 192.69 | loss 20.00 | ppl 484894560.50\n",
      "-----------------------------------------------------------------------------------------\n",
      "| end of epoch   1 | time: 18.56s | valid loss 36.05 | valid ppl 4519565130528858.00\n",
      "-----------------------------------------------------------------------------------------\n",
      "=========================================================================================\n",
      "| End of training | test loss 36.05 | test ppl 4519565130528858.00\n",
      "=========================================================================================\n"
     ]
    }
   ],
   "source": [
    "!command python main.py --data ./data/micmac --epochs=20 --model RNN_TANH --log-interval 25"
   ]
  },
  {
   "cell_type": "code",
   "execution_count": 11,
   "metadata": {},
   "outputs": [
    {
     "name": "stdout",
     "output_type": "stream",
     "text": [
      "Traceback (most recent call last):\n",
      "  File \"main.py\", line 196, in <module>\n",
      "    train()\n",
      "  File \"main.py\", line 174, in train\n",
      "    elapsed * 1000 / args.log_interval, cur_loss, math.exp(cur_loss)))\n",
      "OverflowError: math range error\n"
     ]
    }
   ],
   "source": [
    "!command python main.py --data ./data/micmac --epochs=20 --model RNN_RELU --log-interval 25"
   ]
  },
  {
   "cell_type": "code",
   "execution_count": null,
   "metadata": {},
   "outputs": [],
   "source": []
  }
 ],
 "metadata": {
  "kernelspec": {
   "display_name": "Python 3",
   "language": "python",
   "name": "python3"
  },
  "language_info": {
   "codemirror_mode": {
    "name": "ipython",
    "version": 3
   },
   "file_extension": ".py",
   "mimetype": "text/x-python",
   "name": "python",
   "nbconvert_exporter": "python",
   "pygments_lexer": "ipython3",
   "version": "3.7.0"
  }
 },
 "nbformat": 4,
 "nbformat_minor": 2
}
