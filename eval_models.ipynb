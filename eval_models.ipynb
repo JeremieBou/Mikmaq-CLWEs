{
 "cells": [
  {
   "cell_type": "code",
   "execution_count": 5,
   "metadata": {},
   "outputs": [
    {
     "name": "stdout",
     "output_type": "stream",
     "text": [
      "src/eval_model.py:71: UserWarning: Implicit dimension choice for softmax has been deprecated. Change the call to include dim=X as an argument.\n",
      "  probs = nn.Softmax()(output_flat[i])\n",
      "Perplexity: 850.9265242968389\n",
      "Adjusted Perplexity: 850.9265242968389\n",
      "Perplexity: 1461.8862954767762\n",
      "Adjusted Perplexity: 1461.8862954767762\n"
     ]
    }
   ],
   "source": [
    "!command python src/eval_model.py --model models/rnns/gru_200_1_5_tied.pt --data data/transformed/micmac > data/eval_out/mm_gru_200_1_5_tied.txt \n",
    "!command python src/eval/perplexity_adj.py data/eval_out/mm_gru_200_1_5_tied.txt \n",
    "!command python src/eval/perplexity_adj2.py data/eval_out/mm_gru_200_1_5_tied.txt "
   ]
  },
  {
   "cell_type": "code",
   "execution_count": 6,
   "metadata": {},
   "outputs": [
    {
     "name": "stdout",
     "output_type": "stream",
     "text": [
      "src/eval_model.py:71: UserWarning: Implicit dimension choice for softmax has been deprecated. Change the call to include dim=X as an argument.\n",
      "  probs = nn.Softmax()(output_flat[i])\n",
      "Perplexity: 719.7185814642132\n",
      "Adjusted Perplexity: 719.7185814642132\n",
      "Perplexity: 1219.2830586084924\n",
      "Adjusted Perplexity: 1219.2830586084924\n"
     ]
    }
   ],
   "source": [
    "!command python src/eval_model.py --model models/rnns/gru_200_1_5_tied_normnorm.pt --data data/transformed/micmac > data/eval_out/mm_gru_200_1_5_tied_normnorm.txt \n",
    "!command python src/eval/perplexity_adj.py data/eval_out/mm_gru_200_1_5_tied_normnorm.txt \n",
    "!command python src/eval/perplexity_adj2.py data/eval_out/mm_gru_200_1_5_tied_normnorm.txt "
   ]
  },
  {
   "cell_type": "code",
   "execution_count": 7,
   "metadata": {},
   "outputs": [
    {
     "name": "stdout",
     "output_type": "stream",
     "text": [
      "src/eval_model.py:71: UserWarning: Implicit dimension choice for softmax has been deprecated. Change the call to include dim=X as an argument.\n",
      "  probs = nn.Softmax()(output_flat[i])\n",
      "Perplexity: 691.7629395022607\n",
      "Adjusted Perplexity: 691.7629395022607\n",
      "Perplexity: 1166.6232819243419\n",
      "Adjusted Perplexity: 1166.6232819243419\n"
     ]
    }
   ],
   "source": [
    "!command python src/eval_model.py --model models/rnns/gru_200_1_5_tied_skipgram.pt --data data/transformed/micmac > data/eval_out/mm_gru_200_1_5_tied_skipgram.txt \n",
    "!command python src/eval/perplexity_adj.py data/eval_out/mm_gru_200_1_5_tied_skipgram.txt \n",
    "!command python src/eval/perplexity_adj2.py data/eval_out/mm_gru_200_1_5_tied_skipgram.txt "
   ]
  },
  {
   "cell_type": "code",
   "execution_count": 8,
   "metadata": {},
   "outputs": [
    {
     "name": "stdout",
     "output_type": "stream",
     "text": [
      "src/eval_model.py:71: UserWarning: Implicit dimension choice for softmax has been deprecated. Change the call to include dim=X as an argument.\n",
      "  probs = nn.Softmax()(output_flat[i])\n",
      "Perplexity: 770.8253625229868\n",
      "Adjusted Perplexity: 770.8253625229868\n",
      "Perplexity: 1315.8119827179794\n",
      "Adjusted Perplexity: 1315.8119827179794\n"
     ]
    }
   ],
   "source": [
    "!command python src/eval_model.py --model models/rnns/gru_200_1_5_skipgram.pt --data data/transformed/micmac > data/eval_out/mm_gru_200_1_5_skipgram.txt \n",
    "!command python src/eval/perplexity_adj.py data/eval_out/mm_gru_200_1_5_skipgram.txt \n",
    "!command python src/eval/perplexity_adj2.py data/eval_out/mm_gru_200_1_5_skipgram.txt "
   ]
  },
  {
   "cell_type": "code",
   "execution_count": 10,
   "metadata": {},
   "outputs": [
    {
     "name": "stdout",
     "output_type": "stream",
     "text": [
      "src/eval_model.py:71: UserWarning: Implicit dimension choice for softmax has been deprecated. Change the call to include dim=X as an argument.\n",
      "  probs = nn.Softmax()(output_flat[i])\n",
      "Perplexity: 910.381724526327\n",
      "Adjusted Perplexity: 910.381724526327\n",
      "Perplexity: 1574.6791831616326\n",
      "Adjusted Perplexity: 1574.6791831616326\n"
     ]
    }
   ],
   "source": [
    "!command python src/eval_model.py --model models/rnns/gru_200_1_5_cbow.pt --data data/transformed/micmac > data/eval_out/mm_gru_200_1_5_cbow.txt \n",
    "!command python src/eval/perplexity_adj.py data/eval_out/mm_gru_200_1_5_cbow.txt \n",
    "!command python src/eval/perplexity_adj2.py data/eval_out/mm_gru_200_1_5_cbow.txt "
   ]
  },
  {
   "cell_type": "code",
   "execution_count": 11,
   "metadata": {},
   "outputs": [
    {
     "name": "stdout",
     "output_type": "stream",
     "text": [
      "src/eval_model.py:71: UserWarning: Implicit dimension choice for softmax has been deprecated. Change the call to include dim=X as an argument.\n",
      "  probs = nn.Softmax()(output_flat[i])\n",
      "Perplexity: 948.054559571386\n",
      "Adjusted Perplexity: 948.054559571386\n",
      "Perplexity: 1638.517959441957\n",
      "Adjusted Perplexity: 1638.517959441957\n"
     ]
    }
   ],
   "source": [
    "!command python src/eval_model.py --model models/rnns/gru_200_1_5_tied_cbow.pt --data data/transformed/micmac > data/eval_out/mm_gru_200_1_5_tied_cbow.txt \n",
    "!command python src/eval/perplexity_adj.py data/eval_out/mm_gru_200_1_5_tied_cbow.txt \n",
    "!command python src/eval/perplexity_adj2.py data/eval_out/mm_gru_200_1_5_tied_cbow.txt "
   ]
  }
 ],
 "metadata": {
  "kernelspec": {
   "display_name": "Python 3",
   "language": "python",
   "name": "python3"
  },
  "language_info": {
   "codemirror_mode": {
    "name": "ipython",
    "version": 3
   },
   "file_extension": ".py",
   "mimetype": "text/x-python",
   "name": "python",
   "nbconvert_exporter": "python",
   "pygments_lexer": "ipython3",
   "version": "3.7.0"
  }
 },
 "nbformat": 4,
 "nbformat_minor": 2
}
