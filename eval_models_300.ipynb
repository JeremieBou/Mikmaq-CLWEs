{
 "cells": [
  {
   "cell_type": "code",
   "execution_count": 3,
   "metadata": {},
   "outputs": [
    {
     "name": "stdout",
     "output_type": "stream",
     "text": [
      "/home/jeremie/anaconda3/envs/pytorch_test/lib/python3.7/site-packages/torch/serialization.py:425: SourceChangeWarning: source code of class 'model.RNNModel' has changed. you can retrieve the original source code by accessing the object's source attribute or set `torch.nn.Module.dump_patches = True` and use the patch tool to revert the changes.\n",
      "  warnings.warn(msg, SourceChangeWarning)\n",
      "src/eval_model.py:77: UserWarning: Implicit dimension choice for softmax has been deprecated. Change the call to include dim=X as an argument.\n",
      "  probs = nn.Softmax()(output_flat[i])\n",
      "Perplexity: 816.2391781992181\n",
      "Adjusted Perplexity: 816.2391781992181\n"
     ]
    }
   ],
   "source": [
    "!command python src/eval_model.py --model models/rnns/gru_300_1_5_tied.pt --data data/transformed/micmac > data/eval_out/mm_gru_300_1_5_tied.txt \n",
    "!command python src/eval/perplexity_adj.py data/eval_out/mm_gru_300_1_5_tied.txt "
   ]
  },
  {
   "cell_type": "code",
   "execution_count": 4,
   "metadata": {},
   "outputs": [
    {
     "name": "stdout",
     "output_type": "stream",
     "text": [
      "/home/jeremie/anaconda3/envs/pytorch_test/lib/python3.7/site-packages/torch/serialization.py:425: SourceChangeWarning: source code of class 'model.RNNModel' has changed. you can retrieve the original source code by accessing the object's source attribute or set `torch.nn.Module.dump_patches = True` and use the patch tool to revert the changes.\n",
      "  warnings.warn(msg, SourceChangeWarning)\n",
      "src/eval_model.py:77: UserWarning: Implicit dimension choice for softmax has been deprecated. Change the call to include dim=X as an argument.\n",
      "  probs = nn.Softmax()(output_flat[i])\n",
      "Perplexity: 699.9518652891392\n",
      "Adjusted Perplexity: 699.9518652891392\n"
     ]
    }
   ],
   "source": [
    "!command python src/eval_model.py --model models/rnns/gru_300_1_5_tied_normnorm.pt --data data/transformed/micmac > data/eval_out/mm_gru_300_1_5_tied_normnorm.txt \n",
    "!command python src/eval/perplexity_adj.py data/eval_out/mm_gru_300_1_5_tied_normnorm.txt "
   ]
  },
  {
   "cell_type": "code",
   "execution_count": 5,
   "metadata": {},
   "outputs": [
    {
     "name": "stdout",
     "output_type": "stream",
     "text": [
      "/home/jeremie/anaconda3/envs/pytorch_test/lib/python3.7/site-packages/torch/serialization.py:425: SourceChangeWarning: source code of class 'model.RNNModel' has changed. you can retrieve the original source code by accessing the object's source attribute or set `torch.nn.Module.dump_patches = True` and use the patch tool to revert the changes.\n",
      "  warnings.warn(msg, SourceChangeWarning)\n",
      "src/eval_model.py:77: UserWarning: Implicit dimension choice for softmax has been deprecated. Change the call to include dim=X as an argument.\n",
      "  probs = nn.Softmax()(output_flat[i])\n",
      "Perplexity: 714.0118212233893\n",
      "Adjusted Perplexity: 714.0118212233893\n"
     ]
    }
   ],
   "source": [
    "!command python src/eval_model.py --model models/rnns/gru_300_1_5_tied_skipgram.pt --data data/transformed/micmac > data/eval_out/mm_gru_300_1_5_tied_skipgram.txt \n",
    "!command python src/eval/perplexity_adj.py data/eval_out/mm_gru_300_1_5_tied_skipgram.txt "
   ]
  },
  {
   "cell_type": "code",
   "execution_count": 6,
   "metadata": {},
   "outputs": [
    {
     "name": "stdout",
     "output_type": "stream",
     "text": [
      "/home/jeremie/anaconda3/envs/pytorch_test/lib/python3.7/site-packages/torch/serialization.py:425: SourceChangeWarning: source code of class 'model.RNNModel' has changed. you can retrieve the original source code by accessing the object's source attribute or set `torch.nn.Module.dump_patches = True` and use the patch tool to revert the changes.\n",
      "  warnings.warn(msg, SourceChangeWarning)\n",
      "src/eval_model.py:77: UserWarning: Implicit dimension choice for softmax has been deprecated. Change the call to include dim=X as an argument.\n",
      "  probs = nn.Softmax()(output_flat[i])\n",
      "Perplexity: 772.2870976650795\n",
      "Adjusted Perplexity: 772.2870976650795\n"
     ]
    }
   ],
   "source": [
    "!command python src/eval_model.py --model models/rnns/gru_300_1_5_skipgram.pt --data data/transformed/micmac > data/eval_out/mm_gru_300_1_5_skipgram.txt \n",
    "!command python src/eval/perplexity_adj.py data/eval_out/mm_gru_300_1_5_skipgram.txt "
   ]
  },
  {
   "cell_type": "code",
   "execution_count": 7,
   "metadata": {},
   "outputs": [
    {
     "name": "stdout",
     "output_type": "stream",
     "text": [
      "/home/jeremie/anaconda3/envs/pytorch_test/lib/python3.7/site-packages/torch/serialization.py:425: SourceChangeWarning: source code of class 'model.RNNModel' has changed. you can retrieve the original source code by accessing the object's source attribute or set `torch.nn.Module.dump_patches = True` and use the patch tool to revert the changes.\n",
      "  warnings.warn(msg, SourceChangeWarning)\n",
      "src/eval_model.py:77: UserWarning: Implicit dimension choice for softmax has been deprecated. Change the call to include dim=X as an argument.\n",
      "  probs = nn.Softmax()(output_flat[i])\n",
      "Perplexity: 920.2272740532283\n",
      "Adjusted Perplexity: 920.2272740532283\n"
     ]
    }
   ],
   "source": [
    "!command python src/eval_model.py --model models/rnns/gru_300_1_5_cbow.pt --data data/transformed/micmac > data/eval_out/mm_gru_300_1_5_cbow.txt \n",
    "!command python src/eval/perplexity_adj.py data/eval_out/mm_gru_300_1_5_cbow.txt "
   ]
  },
  {
   "cell_type": "code",
   "execution_count": 8,
   "metadata": {},
   "outputs": [
    {
     "name": "stdout",
     "output_type": "stream",
     "text": [
      "/home/jeremie/anaconda3/envs/pytorch_test/lib/python3.7/site-packages/torch/serialization.py:425: SourceChangeWarning: source code of class 'model.RNNModel' has changed. you can retrieve the original source code by accessing the object's source attribute or set `torch.nn.Module.dump_patches = True` and use the patch tool to revert the changes.\n",
      "  warnings.warn(msg, SourceChangeWarning)\n",
      "src/eval_model.py:77: UserWarning: Implicit dimension choice for softmax has been deprecated. Change the call to include dim=X as an argument.\n",
      "  probs = nn.Softmax()(output_flat[i])\n",
      "Perplexity: 842.5721458584055\n",
      "Adjusted Perplexity: 842.5721458584055\n"
     ]
    }
   ],
   "source": [
    "!command python src/eval_model.py --model models/rnns/gru_300_1_5_tied_cbow.pt --data data/transformed/micmac > data/eval_out/mm_gru_300_1_5_tied_cbow.txt \n",
    "!command python src/eval/perplexity_adj.py data/eval_out/mm_gru_300_1_5_tied_cbow.txt "
   ]
  },
  {
   "cell_type": "code",
   "execution_count": 9,
   "metadata": {},
   "outputs": [
    {
     "name": "stdout",
     "output_type": "stream",
     "text": [
      "Perplexity: 543.766335229108\n",
      "Adjusted Perplexity: 2501.178568960091\n"
     ]
    }
   ],
   "source": [
    "!command python src/eval/testKenlmModelGood.py models/kenlm/klm_mm_2.bin data/transformed/micmac/dev.txt data/vocabs/micmac/train.txt-Vocab.json \\\n",
    "            > data/eval_out/klm_02_mm.txt\n",
    "!command python src/eval/perplexity_adj.py data/eval_out/klm_02_mm.txt "
   ]
  },
  {
   "cell_type": "code",
   "execution_count": 10,
   "metadata": {},
   "outputs": [
    {
     "name": "stdout",
     "output_type": "stream",
     "text": [
      "Perplexity: 426.730720481374\n",
      "Adjusted Perplexity: 1962.8462882594742\n"
     ]
    }
   ],
   "source": [
    "!command python src/eval/testKenlmModelGood.py models/kenlm/klm_mm_3.bin data/transformed/micmac/dev.txt data/vocabs/micmac/train.txt-Vocab.json \\\n",
    "            > data/eval_out/klm_03_mm.txt\n",
    "!command python src/eval/perplexity_adj.py data/eval_out/klm_03_mm.txt "
   ]
  },
  {
   "cell_type": "code",
   "execution_count": 11,
   "metadata": {},
   "outputs": [
    {
     "name": "stdout",
     "output_type": "stream",
     "text": [
      "Perplexity: 413.21308934396865\n",
      "Adjusted Perplexity: 1900.6688287267125\n"
     ]
    }
   ],
   "source": [
    "!command python src/eval/testKenlmModelGood.py models/kenlm/klm_mm_4.bin data/transformed/micmac/dev.txt data/vocabs/micmac/train.txt-Vocab.json \\\n",
    "            > data/eval_out/klm_04_mm.txt\n",
    "!command python src/eval/perplexity_adj.py data/eval_out/klm_04_mm.txt "
   ]
  },
  {
   "cell_type": "code",
   "execution_count": 12,
   "metadata": {},
   "outputs": [
    {
     "name": "stdout",
     "output_type": "stream",
     "text": [
      "Perplexity: 413.5952310916522\n",
      "Adjusted Perplexity: 1902.4265777591318\n"
     ]
    }
   ],
   "source": [
    "!command python src/eval/testKenlmModelGood.py models/kenlm/klm_mm_5.bin data/transformed/micmac/dev.txt data/vocabs/micmac/train.txt-Vocab.json \\\n",
    "            > data/eval_out/klm_05_mm.txt\n",
    "!command python src/eval/perplexity_adj.py data/eval_out/klm_05_mm.txt "
   ]
  },
  {
   "cell_type": "code",
   "execution_count": 13,
   "metadata": {},
   "outputs": [
    {
     "name": "stdout",
     "output_type": "stream",
     "text": [
      "Perplexity: 415.36744734786623\n",
      "Adjusted Perplexity: 1910.5782948339622\n"
     ]
    }
   ],
   "source": [
    "!command python src/eval/testKenlmModelGood.py models/kenlm/klm_mm_6.bin data/transformed/micmac/dev.txt data/vocabs/micmac/train.txt-Vocab.json \\\n",
    "            > data/eval_out/klm_06_mm.txt\n",
    "!command python src/eval/perplexity_adj.py data/eval_out/klm_06_mm.txt "
   ]
  },
  {
   "cell_type": "code",
   "execution_count": 14,
   "metadata": {},
   "outputs": [
    {
     "name": "stdout",
     "output_type": "stream",
     "text": [
      "/home/jeremie/anaconda3/envs/pytorch_test/lib/python3.7/site-packages/torch/serialization.py:425: SourceChangeWarning: source code of class 'model.RNNModel' has changed. you can retrieve the original source code by accessing the object's source attribute or set `torch.nn.Module.dump_patches = True` and use the patch tool to revert the changes.\n",
      "  warnings.warn(msg, SourceChangeWarning)\n",
      "src/eval_model.py:77: UserWarning: Implicit dimension choice for softmax has been deprecated. Change the call to include dim=X as an argument.\n",
      "  probs = nn.Softmax()(output_flat[i])\n",
      "Perplexity: 790.2922724343734\n",
      "Adjusted Perplexity: 790.2922724343734\n"
     ]
    }
   ],
   "source": [
    "!command python src/eval_model.py --model models/rnns/gru_300_1_5_tied_clwe.pt --data data/transformed/micmac > data/eval_out/mm_gru_300_1_5_tied_clwe.txt \n",
    "!command python src/eval/perplexity_adj.py data/eval_out/mm_gru_300_1_5_tied_clwe.txt "
   ]
  },
  {
   "cell_type": "code",
   "execution_count": 15,
   "metadata": {},
   "outputs": [
    {
     "name": "stdout",
     "output_type": "stream",
     "text": [
      "src/eval_model.py:77: UserWarning: Implicit dimension choice for softmax has been deprecated. Change the call to include dim=X as an argument.\n",
      "  probs = nn.Softmax()(output_flat[i])\n",
      "Perplexity: 775.0178829808106\n",
      "Adjusted Perplexity: 775.0178829808106\n"
     ]
    }
   ],
   "source": [
    "!command python src/eval_model.py --model models/rnns/gru_300_1_5_tied_clwe_rand.pt --data data/transformed/micmac > data/eval_out/mm_gru_300_1_5_tied_clwe_rand.txt \n",
    "!command python src/eval/perplexity_adj.py data/eval_out/mm_gru_300_1_5_tied_clwe_rand.txt "
   ]
  },
  {
   "cell_type": "code",
   "execution_count": 26,
   "metadata": {},
   "outputs": [
    {
     "name": "stdout",
     "output_type": "stream",
     "text": [
      "Perplexity: 527.8554177501085\n",
      "Adjusted Perplexity: 527.8554177501085\n",
      "Perplexity: 467.02972913451697\n",
      "Adjusted Perplexity: 467.02972913451697\n",
      "Perplexity: 596.6030097580879\n",
      "Adjusted Perplexity: 596.6030097580879\n"
     ]
    }
   ],
   "source": [
    "!command python src/eval/interpolate.py data/eval_out/mm_gru_300_1_5_tied.txt data/eval_out/klm_04_mm.txt > data/eval_out/inter_klm4_rnn_tied.txt 0.5\n",
    "!command python src/eval/perplexity_adj.py data/eval_out/inter_klm4_rnn_tied.txt\n",
    "\n",
    "!command python src/eval/interpolate.py data/eval_out/mm_gru_300_1_5_tied.txt data/eval_out/klm_04_mm.txt > data/eval_out/inter_klm4_rnn_tied.txt 0.25\n",
    "!command python src/eval/perplexity_adj.py data/eval_out/inter_klm4_rnn_tied.txt\n",
    "\n",
    "!command python src/eval/interpolate.py data/eval_out/mm_gru_300_1_5_tied.txt data/eval_out/klm_04_mm.txt > data/eval_out/inter_klm4_rnn_tied.txt 0.75\n",
    "!command python src/eval/perplexity_adj.py data/eval_out/inter_klm4_rnn_tied.txt\n"
   ]
  },
  {
   "cell_type": "code",
   "execution_count": 29,
   "metadata": {},
   "outputs": [
    {
     "name": "stdout",
     "output_type": "stream",
     "text": [
      "src/eval_model.py:77: UserWarning: Implicit dimension choice for softmax has been deprecated. Change the call to include dim=X as an argument.\n",
      "  probs = nn.Softmax()(output_flat[i])\n",
      "Perplexity: 781.2922241777895\n",
      "Adjusted Perplexity: 781.2922241777895\n"
     ]
    }
   ],
   "source": [
    "!command python src/eval_model.py --model models/rnns/gru_300_1_5_tied_clwe_randtrans.pt --data data/transformed/micmac > data/eval_out/mm_gru_300_1_5_tied_clwe_randtrans.txt \n",
    "!command python src/eval/perplexity_adj.py data/eval_out/mm_gru_300_1_5_tied_clwe_randtrans.txt "
   ]
  },
  {
   "cell_type": "code",
   "execution_count": 1,
   "metadata": {},
   "outputs": [
    {
     "name": "stdout",
     "output_type": "stream",
     "text": [
      "src/eval_model.py:77: UserWarning: Implicit dimension choice for softmax has been deprecated. Change the call to include dim=X as an argument.\n",
      "  probs = nn.Softmax()(output_flat[i])\n",
      "Perplexity: 786.5027888649709\n",
      "Adjusted Perplexity: 786.5027888649709\n"
     ]
    }
   ],
   "source": [
    "!command python src/eval_model.py --model models/rnns/gru_300_1_5_tied_clwe_randcombo.pt --data data/transformed/micmac > data/eval_out/mm_gru_300_1_5_tied_clwe_randcombo.txt \n",
    "!command python src/eval/perplexity_adj.py data/eval_out/mm_gru_300_1_5_tied_clwe_randcombo.txt "
   ]
  },
  {
   "cell_type": "code",
   "execution_count": 2,
   "metadata": {},
   "outputs": [
    {
     "name": "stdout",
     "output_type": "stream",
     "text": [
      "src/eval_model.py:77: UserWarning: Implicit dimension choice for softmax has been deprecated. Change the call to include dim=X as an argument.\n",
      "  probs = nn.Softmax()(output_flat[i])\n",
      "Perplexity: 759.5584199969411\n",
      "Adjusted Perplexity: 759.5584199969411\n"
     ]
    }
   ],
   "source": [
    "!command python src/eval_model.py --model models/rnns/gru_300_1_5_tied_clwe_rand2.pt --data data/transformed/micmac > data/eval_out/mm_gru_300_1_5_tied_clwe_rand2.txt \n",
    "!command python src/eval/perplexity_adj.py data/eval_out/mm_gru_300_1_5_tied_clwe_rand2.txt "
   ]
  }
 ],
 "metadata": {
  "kernelspec": {
   "display_name": "Python 3",
   "language": "python",
   "name": "python3"
  },
  "language_info": {
   "codemirror_mode": {
    "name": "ipython",
    "version": 3
   },
   "file_extension": ".py",
   "mimetype": "text/x-python",
   "name": "python",
   "nbconvert_exporter": "python",
   "pygments_lexer": "ipython3",
   "version": "3.7.0"
  }
 },
 "nbformat": 4,
 "nbformat_minor": 2
}
