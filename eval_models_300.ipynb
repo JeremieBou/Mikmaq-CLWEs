{
 "cells": [
  {
   "cell_type": "code",
   "execution_count": 23,
   "metadata": {},
   "outputs": [
    {
     "name": "stdout",
     "output_type": "stream",
     "text": [
      "/home/jeremie/anaconda3/envs/pytorch_test/lib/python3.7/site-packages/torch/serialization.py:425: SourceChangeWarning: source code of class 'model.RNNModel' has changed. you can retrieve the original source code by accessing the object's source attribute or set `torch.nn.Module.dump_patches = True` and use the patch tool to revert the changes.\n",
      "  warnings.warn(msg, SourceChangeWarning)\n",
      "src/eval_model.py:77: UserWarning: Implicit dimension choice for softmax has been deprecated. Change the call to include dim=X as an argument.\n",
      "  probs = nn.Softmax()(output_flat[i])\n",
      "Perplexity: 816.2391781992181\n",
      "Adjusted Perplexity: 816.2391781992181\n"
     ]
    }
   ],
   "source": [
    "!command python src/eval_model.py --model models/rnns/gru_300_1_5_tied.pt --data data/transformed/micmac > data/eval_out/mm_gru_300_1_5_tied.txt \n",
    "!command python src/eval/perplexity_adj.py data/eval_out/mm_gru_300_1_5_tied.txt "
   ]
  },
  {
   "cell_type": "code",
   "execution_count": 4,
   "metadata": {},
   "outputs": [
    {
     "name": "stdout",
     "output_type": "stream",
     "text": [
      "/home/jeremie/anaconda3/envs/pytorch_test/lib/python3.7/site-packages/torch/serialization.py:425: SourceChangeWarning: source code of class 'model.RNNModel' has changed. you can retrieve the original source code by accessing the object's source attribute or set `torch.nn.Module.dump_patches = True` and use the patch tool to revert the changes.\n",
      "  warnings.warn(msg, SourceChangeWarning)\n",
      "src/eval_model.py:77: UserWarning: Implicit dimension choice for softmax has been deprecated. Change the call to include dim=X as an argument.\n",
      "  probs = nn.Softmax()(output_flat[i])\n",
      "Perplexity: 699.9518652891392\n",
      "Adjusted Perplexity: 699.9518652891392\n"
     ]
    }
   ],
   "source": [
    "!command python src/eval_model.py --model models/rnns/gru_300_1_5_tied_normnorm.pt --data data/transformed/micmac > data/eval_out/mm_gru_300_1_5_tied_normnorm.txt \n",
    "!command python src/eval/perplexity_adj.py data/eval_out/mm_gru_300_1_5_tied_normnorm.txt "
   ]
  },
  {
   "cell_type": "code",
   "execution_count": 5,
   "metadata": {},
   "outputs": [
    {
     "name": "stdout",
     "output_type": "stream",
     "text": [
      "/home/jeremie/anaconda3/envs/pytorch_test/lib/python3.7/site-packages/torch/serialization.py:425: SourceChangeWarning: source code of class 'model.RNNModel' has changed. you can retrieve the original source code by accessing the object's source attribute or set `torch.nn.Module.dump_patches = True` and use the patch tool to revert the changes.\n",
      "  warnings.warn(msg, SourceChangeWarning)\n",
      "src/eval_model.py:77: UserWarning: Implicit dimension choice for softmax has been deprecated. Change the call to include dim=X as an argument.\n",
      "  probs = nn.Softmax()(output_flat[i])\n",
      "Perplexity: 714.0118212233893\n",
      "Adjusted Perplexity: 714.0118212233893\n"
     ]
    }
   ],
   "source": [
    "!command python src/eval_model.py --model models/rnns/gru_300_1_5_tied_skipgram.pt --data data/transformed/micmac > data/eval_out/mm_gru_300_1_5_tied_skipgram.txt \n",
    "!command python src/eval/perplexity_adj.py data/eval_out/mm_gru_300_1_5_tied_skipgram.txt "
   ]
  },
  {
   "cell_type": "code",
   "execution_count": 6,
   "metadata": {},
   "outputs": [
    {
     "name": "stdout",
     "output_type": "stream",
     "text": [
      "/home/jeremie/anaconda3/envs/pytorch_test/lib/python3.7/site-packages/torch/serialization.py:425: SourceChangeWarning: source code of class 'model.RNNModel' has changed. you can retrieve the original source code by accessing the object's source attribute or set `torch.nn.Module.dump_patches = True` and use the patch tool to revert the changes.\n",
      "  warnings.warn(msg, SourceChangeWarning)\n",
      "src/eval_model.py:77: UserWarning: Implicit dimension choice for softmax has been deprecated. Change the call to include dim=X as an argument.\n",
      "  probs = nn.Softmax()(output_flat[i])\n",
      "Perplexity: 772.2870976650795\n",
      "Adjusted Perplexity: 772.2870976650795\n"
     ]
    }
   ],
   "source": [
    "!command python src/eval_model.py --model models/rnns/gru_300_1_5_skipgram.pt --data data/transformed/micmac > data/eval_out/mm_gru_300_1_5_skipgram.txt \n",
    "!command python src/eval/perplexity_adj.py data/eval_out/mm_gru_300_1_5_skipgram.txt "
   ]
  },
  {
   "cell_type": "code",
   "execution_count": 7,
   "metadata": {},
   "outputs": [
    {
     "name": "stdout",
     "output_type": "stream",
     "text": [
      "/home/jeremie/anaconda3/envs/pytorch_test/lib/python3.7/site-packages/torch/serialization.py:425: SourceChangeWarning: source code of class 'model.RNNModel' has changed. you can retrieve the original source code by accessing the object's source attribute or set `torch.nn.Module.dump_patches = True` and use the patch tool to revert the changes.\n",
      "  warnings.warn(msg, SourceChangeWarning)\n",
      "src/eval_model.py:77: UserWarning: Implicit dimension choice for softmax has been deprecated. Change the call to include dim=X as an argument.\n",
      "  probs = nn.Softmax()(output_flat[i])\n",
      "Perplexity: 920.2272740532283\n",
      "Adjusted Perplexity: 920.2272740532283\n"
     ]
    }
   ],
   "source": [
    "!command python src/eval_model.py --model models/rnns/gru_300_1_5_cbow.pt --data data/transformed/micmac > data/eval_out/mm_gru_300_1_5_cbow.txt \n",
    "!command python src/eval/perplexity_adj.py data/eval_out/mm_gru_300_1_5_cbow.txt "
   ]
  },
  {
   "cell_type": "code",
   "execution_count": 8,
   "metadata": {},
   "outputs": [
    {
     "name": "stdout",
     "output_type": "stream",
     "text": [
      "/home/jeremie/anaconda3/envs/pytorch_test/lib/python3.7/site-packages/torch/serialization.py:425: SourceChangeWarning: source code of class 'model.RNNModel' has changed. you can retrieve the original source code by accessing the object's source attribute or set `torch.nn.Module.dump_patches = True` and use the patch tool to revert the changes.\n",
      "  warnings.warn(msg, SourceChangeWarning)\n",
      "src/eval_model.py:77: UserWarning: Implicit dimension choice for softmax has been deprecated. Change the call to include dim=X as an argument.\n",
      "  probs = nn.Softmax()(output_flat[i])\n",
      "Perplexity: 842.5721458584055\n",
      "Adjusted Perplexity: 842.5721458584055\n"
     ]
    }
   ],
   "source": [
    "!command python src/eval_model.py --model models/rnns/gru_300_1_5_tied_cbow.pt --data data/transformed/micmac > data/eval_out/mm_gru_300_1_5_tied_cbow.txt \n",
    "!command python src/eval/perplexity_adj.py data/eval_out/mm_gru_300_1_5_tied_cbow.txt "
   ]
  },
  {
   "cell_type": "code",
   "execution_count": 10,
   "metadata": {},
   "outputs": [
    {
     "name": "stdout",
     "output_type": "stream",
     "text": [
      "Perplexity: 543.766335229108\n",
      "Adjusted Perplexity: 2501.178568960091\n"
     ]
    }
   ],
   "source": [
    "!command python src/eval/testKenlmModelGood.py models/kenlm/klm_mm_2.bin data/transformed/micmac/dev.txt \\\n",
    "            > data/eval_out/klm_02_mm.txt\n",
    "!command python src/eval/testKenlmModelGood.py models/kenlm/klm_mm_2.bin data/transformed/micmac/dev.txt adj\\\n",
    "            > data/eval_out/klm_02_mmadj.txt\n",
    "!command python src/eval/perplexity_adj.py data/eval_out/klm_02_mm.txt "
   ]
  },
  {
   "cell_type": "code",
   "execution_count": 16,
   "metadata": {},
   "outputs": [
    {
     "name": "stdout",
     "output_type": "stream",
     "text": [
      "Perplexity: 426.730720481374\n",
      "Adjusted Perplexity: 1962.8462882594742\n"
     ]
    }
   ],
   "source": [
    "!command python src/eval/testKenlmModelGood.py models/kenlm/klm_mm_3.bin data/transformed/micmac/dev.txt \\\n",
    "            > data/eval_out/klm_03_mm.txt\n",
    "!command python src/eval/testKenlmModelGood.py models/kenlm/klm_mm_3.bin data/transformed/micmac/dev.txt adj \\\n",
    "            > data/eval_out/klm_03_mmadj.txt\n",
    "!command python src/eval/perplexity_adj.py data/eval_out/klm_03_mm.txt "
   ]
  },
  {
   "cell_type": "code",
   "execution_count": 8,
   "metadata": {},
   "outputs": [
    {
     "name": "stdout",
     "output_type": "stream",
     "text": [
      "Perplexity: 413.21308934396865\n",
      "Adjusted Perplexity: 1900.6688287267125\n"
     ]
    }
   ],
   "source": [
    "!command python src/eval/testKenlmModelGood.py models/kenlm/klm_mm_4.bin data/transformed/micmac/dev.txt \\\n",
    "            > data/eval_out/klm_04_mm.txt\n",
    "!command python src/eval/testKenlmModelGood.py models/kenlm/klm_mm_4.bin data/transformed/micmac/dev.txt adj \\\n",
    "            > data/eval_out/klm_04_mmadj.txt\n",
    "!command python src/eval/perplexity_adj.py data/eval_out/klm_04_mm.txt "
   ]
  },
  {
   "cell_type": "code",
   "execution_count": 14,
   "metadata": {},
   "outputs": [
    {
     "name": "stdout",
     "output_type": "stream",
     "text": [
      "Perplexity: 413.5952310916522\n",
      "Adjusted Perplexity: 1902.4265777591318\n",
      "Perplexity: 1902.426577759147\n",
      "Adjusted Perplexity: 1902.426577759147\n"
     ]
    }
   ],
   "source": [
    "!command python src/eval/testKenlmModelGood.py models/kenlm/klm_mm_5.bin data/transformed/micmac/dev.txt \\\n",
    "            > data/eval_out/klm_05_mm.txt\n",
    "!command python src/eval/testKenlmModelGood.py models/kenlm/klm_mm_5.bin data/transformed/micmac/dev.txt adj \\\n",
    "            > data/eval_out/klm_05_mmadj.txt\n",
    "\n",
    "!command python src/eval/perplexity_adj.py data/eval_out/klm_05_mm.txt "
   ]
  },
  {
   "cell_type": "code",
   "execution_count": 19,
   "metadata": {},
   "outputs": [
    {
     "name": "stdout",
     "output_type": "stream",
     "text": [
      "Perplexity: 415.36744734786623\n",
      "Adjusted Perplexity: 1910.5782948339622\n"
     ]
    }
   ],
   "source": [
    "!command python src/eval/testKenlmModelGood.py models/kenlm/klm_mm_6.bin data/transformed/micmac/dev.txt adj\\\n",
    "            > data/eval_out/klm_06_mmadj.txt\n",
    "!command python src/eval/perplexity_adj.py data/eval_out/klm_06_mm.txt "
   ]
  },
  {
   "cell_type": "code",
   "execution_count": 14,
   "metadata": {},
   "outputs": [
    {
     "name": "stdout",
     "output_type": "stream",
     "text": [
      "/home/jeremie/anaconda3/envs/pytorch_test/lib/python3.7/site-packages/torch/serialization.py:425: SourceChangeWarning: source code of class 'model.RNNModel' has changed. you can retrieve the original source code by accessing the object's source attribute or set `torch.nn.Module.dump_patches = True` and use the patch tool to revert the changes.\n",
      "  warnings.warn(msg, SourceChangeWarning)\n",
      "src/eval_model.py:77: UserWarning: Implicit dimension choice for softmax has been deprecated. Change the call to include dim=X as an argument.\n",
      "  probs = nn.Softmax()(output_flat[i])\n",
      "Perplexity: 790.2922724343734\n",
      "Adjusted Perplexity: 790.2922724343734\n"
     ]
    }
   ],
   "source": [
    "!command python src/eval_model.py --model models/rnns/gru_300_1_5_tied_clwe.pt --data data/transformed/micmac > data/eval_out/mm_gru_300_1_5_tied_clwe.txt \n",
    "!command python src/eval/perplexity_adj.py data/eval_out/mm_gru_300_1_5_tied_clwe.txt "
   ]
  },
  {
   "cell_type": "code",
   "execution_count": 7,
   "metadata": {},
   "outputs": [
    {
     "name": "stdout",
     "output_type": "stream",
     "text": [
      "/home/jeremie/anaconda3/envs/pytorch_test/lib/python3.7/site-packages/torch/serialization.py:425: SourceChangeWarning: source code of class 'model.RNNModel' has changed. you can retrieve the original source code by accessing the object's source attribute or set `torch.nn.Module.dump_patches = True` and use the patch tool to revert the changes.\n",
      "  warnings.warn(msg, SourceChangeWarning)\n",
      "src/eval_model.py:77: UserWarning: Implicit dimension choice for softmax has been deprecated. Change the call to include dim=X as an argument.\n",
      "  probs = nn.Softmax()(output_flat[i])\n",
      "Perplexity: 775.0178829808106\n",
      "Adjusted Perplexity: 775.0178829808106\n"
     ]
    }
   ],
   "source": [
    "!command python src/eval_model.py --model models/rnns/gru_300_1_5_tied_clwe_rand.pt --data data/transformed/micmac > data/eval_out/mm_gru_300_1_5_tied_clwe_rand.txt \n",
    "!command python src/eval/perplexity_adj.py data/eval_out/mm_gru_300_1_5_tied_clwe_rand.txt "
   ]
  },
  {
   "cell_type": "code",
   "execution_count": 22,
   "metadata": {},
   "outputs": [
    {
     "name": "stdout",
     "output_type": "stream",
     "text": [
      "Perplexity: 1299.2621183139054\n",
      "Adjusted Perplexity: 1299.2621183139054\n",
      "Perplexity: 1150.974723055256\n",
      "Adjusted Perplexity: 1150.974723055256\n",
      "Perplexity: 1132.5981988929066\n",
      "Adjusted Perplexity: 1132.5981988929066\n",
      "Perplexity: 1133.1217944003342\n",
      "Adjusted Perplexity: 1133.1217944003342\n",
      "Perplexity: 1135.546858981711\n",
      "Adjusted Perplexity: 1135.546858981711\n",
      "Perplexity: 1900.6688287267143\n",
      "Adjusted Perplexity: 1900.6688287267143\n",
      "Perplexity: 1713.721854416457\n",
      "Adjusted Perplexity: 1713.721854416457\n",
      "Perplexity: 1467.2062200343964\n",
      "Adjusted Perplexity: 1467.2062200343964\n",
      "Perplexity: 874.3001921743809\n",
      "Adjusted Perplexity: 874.3001921743809\n",
      "Perplexity: 748.5337698353003\n",
      "Adjusted Perplexity: 748.5337698353003\n",
      "Perplexity: 674.9090955496846\n",
      "Adjusted Perplexity: 674.9090955496846\n"
     ]
    }
   ],
   "source": [
    "!command python src/eval/interpolate.py data/eval_out/mm_gru_300_1_5_tied.txt data/eval_out/klm_02_mmadj.txt > data/eval_out/inter_klm2_rnn_tied.txt 0.5\n",
    "!command python src/eval/perplexity_adj.py data/eval_out/inter_klm2_rnn_tied.txt\n",
    "\n",
    "!command python src/eval/interpolate.py data/eval_out/mm_gru_300_1_5_tied.txt data/eval_out/klm_03_mmadj.txt > data/eval_out/inter_klm3_rnn_tied.txt 0.5\n",
    "!command python src/eval/perplexity_adj.py data/eval_out/inter_klm3_rnn_tied.txt\n",
    "\n",
    "!command python src/eval/interpolate.py data/eval_out/mm_gru_300_1_5_tied.txt data/eval_out/klm_04_mmadj.txt > data/eval_out/inter_klm4_rnn_tied.txt 0.5\n",
    "!command python src/eval/perplexity_adj.py data/eval_out/inter_klm4_rnn_tied.txt\n",
    "\n",
    "!command python src/eval/interpolate.py data/eval_out/mm_gru_300_1_5_tied.txt data/eval_out/klm_05_mmadj.txt > data/eval_out/inter_klm5_rnn_tied.txt 0.5\n",
    "!command python src/eval/perplexity_adj.py data/eval_out/inter_klm5_rnn_tied.txt\n",
    "\n",
    "!command python src/eval/interpolate.py data/eval_out/mm_gru_300_1_5_tied.txt data/eval_out/klm_06_mmadj.txt > data/eval_out/inter_klm6_rnn_tied.txt 0.5\n",
    "!command python src/eval/perplexity_adj.py data/eval_out/inter_klm6_rnn_tied.txt\n",
    "\n",
    "\n",
    "!command python src/eval/interpolate.py data/eval_out/mm_gru_300_1_5_tied.txt data/eval_out/klm_04_mmadj.txt > data/eval_out/inter_klm4_rnn_tied.txt 0\n",
    "!command python src/eval/perplexity_adj.py data/eval_out/inter_klm4_rnn_tied.txt\n",
    "\n",
    "!command python src/eval/interpolate.py data/eval_out/mm_gru_300_1_5_tied.txt data/eval_out/klm_04_mmadj.txt > data/eval_out/inter_klm4_rnn_tied.txt 0.1\n",
    "!command python src/eval/perplexity_adj.py data/eval_out/inter_klm4_rnn_tied.txt\n",
    "\n",
    "!command python src/eval/interpolate.py data/eval_out/mm_gru_300_1_5_tied.txt data/eval_out/klm_04_mmadj.txt > data/eval_out/inter_klm4_rnn_tied.txt 0.25\n",
    "!command python src/eval/perplexity_adj.py data/eval_out/inter_klm4_rnn_tied.txt\n",
    "\n",
    "!command python src/eval/interpolate.py data/eval_out/mm_gru_300_1_5_tied.txt data/eval_out/klm_04_mmadj.txt > data/eval_out/inter_klm4_rnn_tied.txt 0.75\n",
    "!command python src/eval/perplexity_adj.py data/eval_out/inter_klm4_rnn_tied.txt\n",
    "\n",
    "!command python src/eval/interpolate.py data/eval_out/mm_gru_300_1_5_tied.txt data/eval_out/klm_04_mmadj.txt > data/eval_out/inter_klm4_rnn_tied.txt 0.9\n",
    "!command python src/eval/perplexity_adj.py data/eval_out/inter_klm4_rnn_tied.txt\n",
    "\n",
    "!command python src/eval/interpolate.py data/eval_out/mm_gru_300_1_5_tied.txt data/eval_out/klm_04_mmadj.txt > data/eval_out/inter_klm4_rnn_tied.txt 1\n",
    "!command python src/eval/perplexity_adj.py data/eval_out/inter_klm4_rnn_tied.txt\n",
    "\n",
    "\n",
    "\n",
    "\n"
   ]
  },
  {
   "cell_type": "code",
   "execution_count": 29,
   "metadata": {},
   "outputs": [
    {
     "name": "stdout",
     "output_type": "stream",
     "text": [
      "src/eval_model.py:77: UserWarning: Implicit dimension choice for softmax has been deprecated. Change the call to include dim=X as an argument.\n",
      "  probs = nn.Softmax()(output_flat[i])\n",
      "Perplexity: 781.2922241777895\n",
      "Adjusted Perplexity: 781.2922241777895\n"
     ]
    }
   ],
   "source": [
    "!command python src/eval_model.py --model models/rnns/gru_300_1_5_tied_clwe_randtrans.pt --data data/transformed/micmac > data/eval_out/mm_gru_300_1_5_tied_clwe_randtrans.txt \n",
    "!command python src/eval/perplexity_adj.py data/eval_out/mm_gru_300_1_5_tied_clwe_randtrans.txt "
   ]
  },
  {
   "cell_type": "code",
   "execution_count": 1,
   "metadata": {},
   "outputs": [
    {
     "name": "stdout",
     "output_type": "stream",
     "text": [
      "src/eval_model.py:77: UserWarning: Implicit dimension choice for softmax has been deprecated. Change the call to include dim=X as an argument.\n",
      "  probs = nn.Softmax()(output_flat[i])\n",
      "Perplexity: 786.5027888649709\n",
      "Adjusted Perplexity: 786.5027888649709\n"
     ]
    }
   ],
   "source": [
    "!command python src/eval_model.py --model models/rnns/gru_300_1_5_tied_clwe_randcombo.pt --data data/transformed/micmac > data/eval_out/mm_gru_300_1_5_tied_clwe_randcombo.txt \n",
    "!command python src/eval/perplexity_adj.py data/eval_out/mm_gru_300_1_5_tied_clwe_randcombo.txt "
   ]
  },
  {
   "cell_type": "code",
   "execution_count": 2,
   "metadata": {},
   "outputs": [
    {
     "name": "stdout",
     "output_type": "stream",
     "text": [
      "src/eval_model.py:77: UserWarning: Implicit dimension choice for softmax has been deprecated. Change the call to include dim=X as an argument.\n",
      "  probs = nn.Softmax()(output_flat[i])\n",
      "Perplexity: 759.5584199969411\n",
      "Adjusted Perplexity: 759.5584199969411\n"
     ]
    }
   ],
   "source": [
    "!command python src/eval_model.py --model models/rnns/gru_300_1_5_tied_clwe_rand2.pt --data data/transformed/micmac > data/eval_out/mm_gru_300_1_5_tied_clwe_rand2.txt \n",
    "!command python src/eval/perplexity_adj.py data/eval_out/mm_gru_300_1_5_tied_clwe_rand2.txt "
   ]
  },
  {
   "cell_type": "code",
   "execution_count": 2,
   "metadata": {},
   "outputs": [
    {
     "name": "stdout",
     "output_type": "stream",
     "text": [
      "/home/jeremie/anaconda3/envs/pytorch_test/lib/python3.7/site-packages/torch/serialization.py:425: SourceChangeWarning: source code of class 'model.RNNModel' has changed. you can retrieve the original source code by accessing the object's source attribute or set `torch.nn.Module.dump_patches = True` and use the patch tool to revert the changes.\n",
      "  warnings.warn(msg, SourceChangeWarning)\n",
      "src/eval_model.py:77: UserWarning: Implicit dimension choice for softmax has been deprecated. Change the call to include dim=X as an argument.\n",
      "  probs = nn.Softmax()(output_flat[i])\n",
      "Perplexity: 876.3363797020392\n",
      "Adjusted Perplexity: 876.3363797020392\n"
     ]
    }
   ],
   "source": [
    "!command python src/eval_model.py --model models/rnns/gru_300_1_5_tied_duong.pt --data data/transformed/micmac > data/eval_out/mm_gru_300_1_5_tied_duong.txt \n",
    "!command python src/eval/perplexity_adj.py data/eval_out/mm_gru_300_1_5_tied_duong.txt "
   ]
  },
  {
   "cell_type": "code",
   "execution_count": 3,
   "metadata": {},
   "outputs": [
    {
     "name": "stdout",
     "output_type": "stream",
     "text": [
      "/home/jeremie/anaconda3/envs/pytorch_test/lib/python3.7/site-packages/torch/serialization.py:425: SourceChangeWarning: source code of class 'model.RNNModel' has changed. you can retrieve the original source code by accessing the object's source attribute or set `torch.nn.Module.dump_patches = True` and use the patch tool to revert the changes.\n",
      "  warnings.warn(msg, SourceChangeWarning)\n",
      "src/eval_model.py:77: UserWarning: Implicit dimension choice for softmax has been deprecated. Change the call to include dim=X as an argument.\n",
      "  probs = nn.Softmax()(output_flat[i])\n",
      "Perplexity: 734.332402398926\n",
      "Adjusted Perplexity: 734.332402398926\n"
     ]
    }
   ],
   "source": [
    "!command python src/eval_model.py --model models/rnns/gru_300_1_5_tied_duong2.pt --data data/transformed/micmac > data/eval_out/mm_gru_300_1_5_tied_duong2.txt \n",
    "!command python src/eval/perplexity_adj.py data/eval_out/mm_gru_300_1_5_tied_duong2.txt "
   ]
  },
  {
   "cell_type": "code",
   "execution_count": 5,
   "metadata": {},
   "outputs": [
    {
     "name": "stdout",
     "output_type": "stream",
     "text": [
      "src/eval_model.py:77: UserWarning: Implicit dimension choice for softmax has been deprecated. Change the call to include dim=X as an argument.\n",
      "  probs = nn.Softmax()(output_flat[i])\n",
      "Perplexity: 1087.8626428512548\n",
      "Adjusted Perplexity: 1087.8626428512548\n"
     ]
    }
   ],
   "source": [
    "!command python src/eval_model.py --model models/rnns/gru_300_1_5_tied_duong5mil.pt --data data/transformed/micmac > data/eval_out/mm_gru_300_1_5_tied_duong5mil.txt \n",
    "!command python src/eval/perplexity_adj.py data/eval_out/mm_gru_300_1_5_tied_duong5mil.txt "
   ]
  },
  {
   "cell_type": "code",
   "execution_count": 6,
   "metadata": {},
   "outputs": [
    {
     "name": "stdout",
     "output_type": "stream",
     "text": [
      "src/eval_model.py:77: UserWarning: Implicit dimension choice for softmax has been deprecated. Change the call to include dim=X as an argument.\n",
      "  probs = nn.Softmax()(output_flat[i])\n",
      "Perplexity: 720.4569012496864\n",
      "Adjusted Perplexity: 720.4569012496864\n"
     ]
    }
   ],
   "source": [
    "!command python src/eval_model.py --model models/rnns/gru_300_1_5_tied_duong_skip.pt --data data/transformed/micmac > data/eval_out/mm_gru_300_1_5_tied_duong_skip.txt \n",
    "!command python src/eval/perplexity_adj.py data/eval_out/mm_gru_300_1_5_tied_duong_skip.txt "
   ]
  }
 ],
 "metadata": {
  "kernelspec": {
   "display_name": "Python 3",
   "language": "python",
   "name": "python3"
  },
  "language_info": {
   "codemirror_mode": {
    "name": "ipython",
    "version": 3
   },
   "file_extension": ".py",
   "mimetype": "text/x-python",
   "name": "python",
   "nbconvert_exporter": "python",
   "pygments_lexer": "ipython3",
   "version": "3.7.0"
  }
 },
 "nbformat": 4,
 "nbformat_minor": 2
}
